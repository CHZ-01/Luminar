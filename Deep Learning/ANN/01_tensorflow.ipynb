{
 "cells": [
  {
   "cell_type": "code",
   "execution_count": 30,
   "metadata": {},
   "outputs": [],
   "source": [
    "import pandas as pd\n",
    "import numpy as np\n",
    "import matplotlib.pyplot as plt\n",
    "import seaborn as sns\n",
    "\n",
    "from sklearn.preprocessing import MinMaxScaler\n",
    "\n",
    "from sklearn.model_selection import train_test_split\n",
    "\n",
    "from imblearn.over_sampling import SMOTE\n",
    "\n",
    "from sklearn.neighbors import KNeighborsClassifier\n",
    "from sklearn.svm import SVC\n",
    "from sklearn.naive_bayes import GaussianNB\n",
    "from sklearn.tree import DecisionTreeClassifier\n",
    "\n",
    "from sklearn.metrics import classification_report"
   ]
  },
  {
   "cell_type": "code",
   "execution_count": 31,
   "metadata": {},
   "outputs": [
    {
     "data": {
      "text/html": [
       "<div>\n",
       "<style scoped>\n",
       "    .dataframe tbody tr th:only-of-type {\n",
       "        vertical-align: middle;\n",
       "    }\n",
       "\n",
       "    .dataframe tbody tr th {\n",
       "        vertical-align: top;\n",
       "    }\n",
       "\n",
       "    .dataframe thead th {\n",
       "        text-align: right;\n",
       "    }\n",
       "</style>\n",
       "<table border=\"1\" class=\"dataframe\">\n",
       "  <thead>\n",
       "    <tr style=\"text-align: right;\">\n",
       "      <th></th>\n",
       "      <th>Pregnancies</th>\n",
       "      <th>Glucose</th>\n",
       "      <th>BloodPressure</th>\n",
       "      <th>SkinThickness</th>\n",
       "      <th>Insulin</th>\n",
       "      <th>BMI</th>\n",
       "      <th>DiabetesPedigreeFunction</th>\n",
       "      <th>Age</th>\n",
       "      <th>Outcome</th>\n",
       "    </tr>\n",
       "  </thead>\n",
       "  <tbody>\n",
       "    <tr>\n",
       "      <th>0</th>\n",
       "      <td>6</td>\n",
       "      <td>148</td>\n",
       "      <td>72</td>\n",
       "      <td>35</td>\n",
       "      <td>0</td>\n",
       "      <td>33.6</td>\n",
       "      <td>0.627</td>\n",
       "      <td>50</td>\n",
       "      <td>1</td>\n",
       "    </tr>\n",
       "    <tr>\n",
       "      <th>1</th>\n",
       "      <td>1</td>\n",
       "      <td>85</td>\n",
       "      <td>66</td>\n",
       "      <td>29</td>\n",
       "      <td>0</td>\n",
       "      <td>26.6</td>\n",
       "      <td>0.351</td>\n",
       "      <td>31</td>\n",
       "      <td>0</td>\n",
       "    </tr>\n",
       "    <tr>\n",
       "      <th>2</th>\n",
       "      <td>8</td>\n",
       "      <td>183</td>\n",
       "      <td>64</td>\n",
       "      <td>0</td>\n",
       "      <td>0</td>\n",
       "      <td>23.3</td>\n",
       "      <td>0.672</td>\n",
       "      <td>32</td>\n",
       "      <td>1</td>\n",
       "    </tr>\n",
       "    <tr>\n",
       "      <th>3</th>\n",
       "      <td>1</td>\n",
       "      <td>89</td>\n",
       "      <td>66</td>\n",
       "      <td>23</td>\n",
       "      <td>94</td>\n",
       "      <td>28.1</td>\n",
       "      <td>0.167</td>\n",
       "      <td>21</td>\n",
       "      <td>0</td>\n",
       "    </tr>\n",
       "    <tr>\n",
       "      <th>4</th>\n",
       "      <td>0</td>\n",
       "      <td>137</td>\n",
       "      <td>40</td>\n",
       "      <td>35</td>\n",
       "      <td>168</td>\n",
       "      <td>43.1</td>\n",
       "      <td>2.288</td>\n",
       "      <td>33</td>\n",
       "      <td>1</td>\n",
       "    </tr>\n",
       "  </tbody>\n",
       "</table>\n",
       "</div>"
      ],
      "text/plain": [
       "   Pregnancies  Glucose  BloodPressure  SkinThickness  Insulin   BMI  \\\n",
       "0            6      148             72             35        0  33.6   \n",
       "1            1       85             66             29        0  26.6   \n",
       "2            8      183             64              0        0  23.3   \n",
       "3            1       89             66             23       94  28.1   \n",
       "4            0      137             40             35      168  43.1   \n",
       "\n",
       "   DiabetesPedigreeFunction  Age  Outcome  \n",
       "0                     0.627   50        1  \n",
       "1                     0.351   31        0  \n",
       "2                     0.672   32        1  \n",
       "3                     0.167   21        0  \n",
       "4                     2.288   33        1  "
      ]
     },
     "execution_count": 31,
     "metadata": {},
     "output_type": "execute_result"
    }
   ],
   "source": [
    "df = pd.read_csv(r\"DataSets\\diabetes.csv\")\n",
    "df.head()"
   ]
  },
  {
   "cell_type": "code",
   "execution_count": 32,
   "metadata": {},
   "outputs": [
    {
     "data": {
      "text/html": [
       "<div>\n",
       "<style scoped>\n",
       "    .dataframe tbody tr th:only-of-type {\n",
       "        vertical-align: middle;\n",
       "    }\n",
       "\n",
       "    .dataframe tbody tr th {\n",
       "        vertical-align: top;\n",
       "    }\n",
       "\n",
       "    .dataframe thead th {\n",
       "        text-align: right;\n",
       "    }\n",
       "</style>\n",
       "<table border=\"1\" class=\"dataframe\">\n",
       "  <thead>\n",
       "    <tr style=\"text-align: right;\">\n",
       "      <th></th>\n",
       "      <th>Pregnancies</th>\n",
       "      <th>Glucose</th>\n",
       "      <th>BloodPressure</th>\n",
       "      <th>SkinThickness</th>\n",
       "      <th>Insulin</th>\n",
       "      <th>BMI</th>\n",
       "      <th>DiabetesPedigreeFunction</th>\n",
       "      <th>Age</th>\n",
       "      <th>Outcome</th>\n",
       "    </tr>\n",
       "  </thead>\n",
       "  <tbody>\n",
       "    <tr>\n",
       "      <th>count</th>\n",
       "      <td>717.000000</td>\n",
       "      <td>717.000000</td>\n",
       "      <td>717.000000</td>\n",
       "      <td>717.000000</td>\n",
       "      <td>717.000000</td>\n",
       "      <td>717.000000</td>\n",
       "      <td>717.000000</td>\n",
       "      <td>717.000000</td>\n",
       "      <td>717.000000</td>\n",
       "    </tr>\n",
       "    <tr>\n",
       "      <th>mean</th>\n",
       "      <td>3.680614</td>\n",
       "      <td>120.898187</td>\n",
       "      <td>71.627615</td>\n",
       "      <td>25.815900</td>\n",
       "      <td>117.584379</td>\n",
       "      <td>31.548117</td>\n",
       "      <td>0.468960</td>\n",
       "      <td>32.966527</td>\n",
       "      <td>0.329149</td>\n",
       "    </tr>\n",
       "    <tr>\n",
       "      <th>std</th>\n",
       "      <td>3.089869</td>\n",
       "      <td>30.263682</td>\n",
       "      <td>11.742915</td>\n",
       "      <td>8.939406</td>\n",
       "      <td>92.336978</td>\n",
       "      <td>5.861837</td>\n",
       "      <td>0.325458</td>\n",
       "      <td>11.810255</td>\n",
       "      <td>0.470232</td>\n",
       "    </tr>\n",
       "    <tr>\n",
       "      <th>min</th>\n",
       "      <td>0.000000</td>\n",
       "      <td>44.000000</td>\n",
       "      <td>24.000000</td>\n",
       "      <td>7.000000</td>\n",
       "      <td>15.000000</td>\n",
       "      <td>18.200000</td>\n",
       "      <td>0.078000</td>\n",
       "      <td>21.000000</td>\n",
       "      <td>0.000000</td>\n",
       "    </tr>\n",
       "    <tr>\n",
       "      <th>25%</th>\n",
       "      <td>1.000000</td>\n",
       "      <td>99.000000</td>\n",
       "      <td>64.000000</td>\n",
       "      <td>20.000000</td>\n",
       "      <td>79.000000</td>\n",
       "      <td>27.300000</td>\n",
       "      <td>0.244000</td>\n",
       "      <td>24.000000</td>\n",
       "      <td>0.000000</td>\n",
       "    </tr>\n",
       "    <tr>\n",
       "      <th>50%</th>\n",
       "      <td>3.000000</td>\n",
       "      <td>116.000000</td>\n",
       "      <td>70.000000</td>\n",
       "      <td>22.000000</td>\n",
       "      <td>79.000000</td>\n",
       "      <td>31.600000</td>\n",
       "      <td>0.374000</td>\n",
       "      <td>29.000000</td>\n",
       "      <td>0.000000</td>\n",
       "    </tr>\n",
       "    <tr>\n",
       "      <th>75%</th>\n",
       "      <td>6.000000</td>\n",
       "      <td>139.000000</td>\n",
       "      <td>80.000000</td>\n",
       "      <td>32.000000</td>\n",
       "      <td>126.000000</td>\n",
       "      <td>35.600000</td>\n",
       "      <td>0.624000</td>\n",
       "      <td>40.000000</td>\n",
       "      <td>1.000000</td>\n",
       "    </tr>\n",
       "    <tr>\n",
       "      <th>max</th>\n",
       "      <td>12.000000</td>\n",
       "      <td>199.000000</td>\n",
       "      <td>122.000000</td>\n",
       "      <td>54.000000</td>\n",
       "      <td>846.000000</td>\n",
       "      <td>44.600000</td>\n",
       "      <td>2.329000</td>\n",
       "      <td>81.000000</td>\n",
       "      <td>1.000000</td>\n",
       "    </tr>\n",
       "  </tbody>\n",
       "</table>\n",
       "</div>"
      ],
      "text/plain": [
       "       Pregnancies     Glucose  BloodPressure  SkinThickness     Insulin  \\\n",
       "count   717.000000  717.000000     717.000000     717.000000  717.000000   \n",
       "mean      3.680614  120.898187      71.627615      25.815900  117.584379   \n",
       "std       3.089869   30.263682      11.742915       8.939406   92.336978   \n",
       "min       0.000000   44.000000      24.000000       7.000000   15.000000   \n",
       "25%       1.000000   99.000000      64.000000      20.000000   79.000000   \n",
       "50%       3.000000  116.000000      70.000000      22.000000   79.000000   \n",
       "75%       6.000000  139.000000      80.000000      32.000000  126.000000   \n",
       "max      12.000000  199.000000     122.000000      54.000000  846.000000   \n",
       "\n",
       "              BMI  DiabetesPedigreeFunction         Age     Outcome  \n",
       "count  717.000000                717.000000  717.000000  717.000000  \n",
       "mean    31.548117                  0.468960   32.966527    0.329149  \n",
       "std      5.861837                  0.325458   11.810255    0.470232  \n",
       "min     18.200000                  0.078000   21.000000    0.000000  \n",
       "25%     27.300000                  0.244000   24.000000    0.000000  \n",
       "50%     31.600000                  0.374000   29.000000    0.000000  \n",
       "75%     35.600000                  0.624000   40.000000    1.000000  \n",
       "max     44.600000                  2.329000   81.000000    1.000000  "
      ]
     },
     "execution_count": 32,
     "metadata": {},
     "output_type": "execute_result"
    }
   ],
   "source": [
    "df.dropna(inplace=True)\n",
    "df.drop_duplicates()\n",
    "\n",
    "zero = ['Glucose', 'BloodPressure', 'SkinThickness', 'Insulin', 'BMI']\n",
    "for i in zero:\n",
    "  mean = int(df[i].mean(skipna=True))\n",
    "  df[i] = df[i].replace(0, np.nan)\n",
    "  df[i] = df[i].replace(np.nan, mean)\n",
    "\n",
    "df = df[df[\"Pregnancies\"]<13]\n",
    "\n",
    "df = df[df[\"SkinThickness\"]<99]\n",
    "\n",
    "df = df[(df['BMI']>15)&(df['BMI']<45)]\n",
    "\n",
    "df.reset_index(drop=True, inplace=True)\n",
    "df.describe()"
   ]
  },
  {
   "cell_type": "code",
   "execution_count": 33,
   "metadata": {},
   "outputs": [
    {
     "data": {
      "image/png": "[encoded data removed]",
      "text/plain": [
       "<Figure size 640x480 with 1 Axes>"
      ]
     },
     "metadata": {},
     "output_type": "display_data"
    },
    {
     "name": "stdout",
     "output_type": "stream",
     "text": [
      "\n"
     ]
    },
    {
     "data": {
      "image/png": "[encoded data removed]",
      "text/plain": [
       "<Figure size 640x480 with 1 Axes>"
      ]
     },
     "metadata": {},
     "output_type": "display_data"
    },
    {
     "name": "stdout",
     "output_type": "stream",
     "text": [
      "\n"
     ]
    },
    {
     "data": {
      "image/png": "[encoded data removed]",
      "text/plain": [
       "<Figure size 640x480 with 1 Axes>"
      ]
     },
     "metadata": {},
     "output_type": "display_data"
    },
    {
     "name": "stdout",
     "output_type": "stream",
     "text": [
      "\n"
     ]
    },
    {
     "data": {
      "image/png": "[encoded data removed]",
      "text/plain": [
       "<Figure size 640x480 with 1 Axes>"
      ]
     },
     "metadata": {},
     "output_type": "display_data"
    },
    {
     "name": "stdout",
     "output_type": "stream",
     "text": [
      "\n"
     ]
    },
    {
     "data": {
      "image/png": "[encoded data removed]",
      "text/plain": [
       "<Figure size 640x480 with 1 Axes>"
      ]
     },
     "metadata": {},
     "output_type": "display_data"
    },
    {
     "name": "stdout",
     "output_type": "stream",
     "text": [
      "\n"
     ]
    },
    {
     "data": {
      "image/png": "[encoded data removed]",
      "text/plain": [
       "<Figure size 640x480 with 1 Axes>"
      ]
     },
     "metadata": {},
     "output_type": "display_data"
    },
    {
     "name": "stdout",
     "output_type": "stream",
     "text": [
      "\n"
     ]
    },
    {
     "data": {
      "image/png": "[encoded data removed]",
      "text/plain": [
       "<Figure size 640x480 with 1 Axes>"
      ]
     },
     "metadata": {},
     "output_type": "display_data"
    },
    {
     "name": "stdout",
     "output_type": "stream",
     "text": [
      "\n"
     ]
    },
    {
     "data": {
      "image/png": "[encoded data removed]",
      "text/plain": [
       "<Figure size 640x480 with 1 Axes>"
      ]
     },
     "metadata": {},
     "output_type": "display_data"
    },
    {
     "name": "stdout",
     "output_type": "stream",
     "text": [
      "\n"
     ]
    },
    {
     "data": {
      "image/png": "[encoded data removed]",
      "text/plain": [
       "<Figure size 640x480 with 1 Axes>"
      ]
     },
     "metadata": {},
     "output_type": "display_data"
    },
    {
     "name": "stdout",
     "output_type": "stream",
     "text": [
      "\n"
     ]
    }
   ],
   "source": [
    "for i in df:\n",
    "  plt.boxplot(df[i])\n",
    "  plt.title(i)\n",
    "  plt.show()\n",
    "  print()"
   ]
  },
  {
   "cell_type": "code",
   "execution_count": 34,
   "metadata": {},
   "outputs": [],
   "source": [
    "x = df.drop(columns=[\"Outcome\"])\n",
    "y = df[\"Outcome\"]"
   ]
  },
  {
   "cell_type": "code",
   "execution_count": 35,
   "metadata": {},
   "outputs": [],
   "source": [
    "smote = SMOTE()\n",
    "x_res,y_res = smote.fit_resample(x,y)"
   ]
  },
  {
   "cell_type": "code",
   "execution_count": 36,
   "metadata": {},
   "outputs": [],
   "source": [
    "mms = MinMaxScaler()\n",
    "x_scaled = mms.fit_transform(x_res)"
   ]
  },
  {
   "cell_type": "code",
   "execution_count": 37,
   "metadata": {},
   "outputs": [],
   "source": [
    "x_train,x_test,y_train,y_test = train_test_split(x_scaled,y_res,test_size=0.4,random_state=2)"
   ]
  },
  {
   "cell_type": "code",
   "execution_count": 38,
   "metadata": {},
   "outputs": [
    {
     "name": "stdout",
     "output_type": "stream",
     "text": [
      "KNeighborsClassifier()\n",
      "              precision    recall  f1-score   support\n",
      "\n",
      "           0       0.81      0.68      0.74       190\n",
      "           1       0.73      0.84      0.78       195\n",
      "\n",
      "    accuracy                           0.76       385\n",
      "   macro avg       0.77      0.76      0.76       385\n",
      "weighted avg       0.77      0.76      0.76       385\n",
      "\n",
      "\n",
      "SVC()\n",
      "              precision    recall  f1-score   support\n",
      "\n",
      "           0       0.81      0.75      0.78       190\n",
      "           1       0.77      0.83      0.80       195\n",
      "\n",
      "    accuracy                           0.79       385\n",
      "   macro avg       0.79      0.79      0.79       385\n",
      "weighted avg       0.79      0.79      0.79       385\n",
      "\n",
      "\n",
      "GaussianNB()\n",
      "              precision    recall  f1-score   support\n",
      "\n",
      "           0       0.71      0.81      0.76       190\n",
      "           1       0.78      0.68      0.73       195\n",
      "\n",
      "    accuracy                           0.74       385\n",
      "   macro avg       0.75      0.74      0.74       385\n",
      "weighted avg       0.75      0.74      0.74       385\n",
      "\n",
      "\n",
      "DecisionTreeClassifier()\n",
      "              precision    recall  f1-score   support\n",
      "\n",
      "           0       0.75      0.74      0.74       190\n",
      "           1       0.75      0.76      0.76       195\n",
      "\n",
      "    accuracy                           0.75       385\n",
      "   macro avg       0.75      0.75      0.75       385\n",
      "weighted avg       0.75      0.75      0.75       385\n",
      "\n",
      "\n"
     ]
    }
   ],
   "source": [
    "models = [KNeighborsClassifier(),SVC(),GaussianNB(),DecisionTreeClassifier()]\n",
    "\n",
    "for i in models:\n",
    "  print(i)\n",
    "  i.fit(x_train,y_train)\n",
    "  y_pred = i.predict(x_test)\n",
    "  print(classification_report(y_test,y_pred))\n",
    "  print()"
   ]
  },
  {
   "cell_type": "code",
   "execution_count": 39,
   "metadata": {},
   "outputs": [],
   "source": [
    "from tensorflow.keras.layers import Dense\n",
    "from tensorflow.keras.models import Sequential"
   ]
  },
  {
   "cell_type": "code",
   "execution_count": 40,
   "metadata": {},
   "outputs": [
    {
     "data": {
      "text/plain": [
       "(577, 8)"
      ]
     },
     "execution_count": 40,
     "metadata": {},
     "output_type": "execute_result"
    }
   ],
   "source": [
    "x_train.shape"
   ]
  },
  {
   "cell_type": "code",
   "execution_count": 41,
   "metadata": {},
   "outputs": [
    {
     "name": "stderr",
     "output_type": "stream",
     "text": [
      "c:\\Users\\vaisa\\AppData\\Local\\Programs\\Python\\Python310\\lib\\site-packages\\keras\\src\\layers\\core\\dense.py:87: UserWarning: Do not pass an `input_shape`/`input_dim` argument to a layer. When using Sequential models, prefer using an `Input(shape)` object as the first layer in the model instead.\n",
      "  super().__init__(activity_regularizer=activity_regularizer, **kwargs)\n"
     ]
    }
   ],
   "source": [
    "model = Sequential([Dense(28,activation=\"relu\",input_shape=(8,)),\n",
    "                    Dense(64,activation=\"relu\"),\n",
    "                    Dense(2,activation=\"softmax\")])"
   ]
  },
  {
   "cell_type": "code",
   "execution_count": 42,
   "metadata": {},
   "outputs": [],
   "source": [
    "model.compile(optimizer=\"adam\",loss=\"sparse_categorical_crossentropy\",metrics=[\"accuracy\"])"
   ]
  },
  {
   "cell_type": "code",
   "execution_count": 43,
   "metadata": {},
   "outputs": [
    {
     "name": "stdout",
     "output_type": "stream",
     "text": [
      "Epoch 1/50\n",
      "\u001b[1m19/19\u001b[0m \u001b[32m━━━━━━━━━━━━━━━━━━━━\u001b[0m\u001b[37m\u001b[0m \u001b[1m1s\u001b[0m 3ms/step - accuracy: 0.5755 - loss: 0.6796   \n",
      "Epoch 2/50\n",
      "\u001b[1m19/19\u001b[0m \u001b[32m━━━━━━━━━━━━━━━━━━━━\u001b[0m\u001b[37m\u001b[0m \u001b[1m0s\u001b[0m 3ms/step - accuracy: 0.5711 - loss: 0.6682 \n",
      "Epoch 3/50\n",
      "\u001b[1m19/19\u001b[0m \u001b[32m━━━━━━━━━━━━━━━━━━━━\u001b[0m\u001b[37m\u001b[0m \u001b[1m0s\u001b[0m 3ms/step - accuracy: 0.6232 - loss: 0.6547 \n",
      "Epoch 4/50\n",
      "\u001b[1m19/19\u001b[0m \u001b[32m━━━━━━━━━━━━━━━━━━━━\u001b[0m\u001b[37m\u001b[0m \u001b[1m0s\u001b[0m 3ms/step - accuracy: 0.6953 - loss: 0.6385 \n",
      "Epoch 5/50\n",
      "\u001b[1m19/19\u001b[0m \u001b[32m━━━━━━━━━━━━━━━━━━━━\u001b[0m\u001b[37m\u001b[0m \u001b[1m0s\u001b[0m 4ms/step - accuracy: 0.7192 - loss: 0.6289 \n",
      "Epoch 6/50\n",
      "\u001b[1m19/19\u001b[0m \u001b[32m━━━━━━━━━━━━━━━━━━━━\u001b[0m\u001b[37m\u001b[0m \u001b[1m0s\u001b[0m 3ms/step - accuracy: 0.7141 - loss: 0.6182 \n",
      "Epoch 7/50\n",
      "\u001b[1m19/19\u001b[0m \u001b[32m━━━━━━━━━━━━━━━━━━━━\u001b[0m\u001b[37m\u001b[0m \u001b[1m0s\u001b[0m 4ms/step - accuracy: 0.7056 - loss: 0.6025 \n",
      "Epoch 8/50\n",
      "\u001b[1m19/19\u001b[0m \u001b[32m━━━━━━━━━━━━━━━━━━━━\u001b[0m\u001b[37m\u001b[0m \u001b[1m0s\u001b[0m 3ms/step - accuracy: 0.6992 - loss: 0.5911 \n",
      "Epoch 9/50\n",
      "\u001b[1m19/19\u001b[0m \u001b[32m━━━━━━━━━━━━━━━━━━━━\u001b[0m\u001b[37m\u001b[0m \u001b[1m0s\u001b[0m 3ms/step - accuracy: 0.7349 - loss: 0.5724 \n",
      "Epoch 10/50\n",
      "\u001b[1m19/19\u001b[0m \u001b[32m━━━━━━━━━━━━━━━━━━━━\u001b[0m\u001b[37m\u001b[0m \u001b[1m0s\u001b[0m 3ms/step - accuracy: 0.7062 - loss: 0.5722 \n",
      "Epoch 11/50\n",
      "\u001b[1m19/19\u001b[0m \u001b[32m━━━━━━━━━━━━━━━━━━━━\u001b[0m\u001b[37m\u001b[0m \u001b[1m0s\u001b[0m 3ms/step - accuracy: 0.7469 - loss: 0.5557 \n",
      "Epoch 12/50\n",
      "\u001b[1m19/19\u001b[0m \u001b[32m━━━━━━━━━━━━━━━━━━━━\u001b[0m\u001b[37m\u001b[0m \u001b[1m0s\u001b[0m 3ms/step - accuracy: 0.7506 - loss: 0.5487 \n",
      "Epoch 13/50\n",
      "\u001b[1m19/19\u001b[0m \u001b[32m━━━━━━━━━━━━━━━━━━━━\u001b[0m\u001b[37m\u001b[0m \u001b[1m0s\u001b[0m 3ms/step - accuracy: 0.7527 - loss: 0.5401 \n",
      "Epoch 14/50\n",
      "\u001b[1m19/19\u001b[0m \u001b[32m━━━━━━━━━━━━━━━━━━━━\u001b[0m\u001b[37m\u001b[0m \u001b[1m0s\u001b[0m 3ms/step - accuracy: 0.7344 - loss: 0.5319 \n",
      "Epoch 15/50\n",
      "\u001b[1m19/19\u001b[0m \u001b[32m━━━━━━━━━━━━━━━━━━━━\u001b[0m\u001b[37m\u001b[0m \u001b[1m0s\u001b[0m 3ms/step - accuracy: 0.7708 - loss: 0.5137 \n",
      "Epoch 16/50\n",
      "\u001b[1m19/19\u001b[0m \u001b[32m━━━━━━━━━━━━━━━━━━━━\u001b[0m\u001b[37m\u001b[0m \u001b[1m0s\u001b[0m 3ms/step - accuracy: 0.7771 - loss: 0.4910 \n",
      "Epoch 17/50\n",
      "\u001b[1m19/19\u001b[0m \u001b[32m━━━━━━━━━━━━━━━━━━━━\u001b[0m\u001b[37m\u001b[0m \u001b[1m0s\u001b[0m 3ms/step - accuracy: 0.7521 - loss: 0.5140 \n",
      "Epoch 18/50\n",
      "\u001b[1m19/19\u001b[0m \u001b[32m━━━━━━━━━━━━━━━━━━━━\u001b[0m\u001b[37m\u001b[0m \u001b[1m0s\u001b[0m 3ms/step - accuracy: 0.7561 - loss: 0.5029 \n",
      "Epoch 19/50\n",
      "\u001b[1m19/19\u001b[0m \u001b[32m━━━━━━━━━━━━━━━━━━━━\u001b[0m\u001b[37m\u001b[0m \u001b[1m0s\u001b[0m 3ms/step - accuracy: 0.7624 - loss: 0.5130 \n",
      "Epoch 20/50\n",
      "\u001b[1m19/19\u001b[0m \u001b[32m━━━━━━━━━━━━━━━━━━━━\u001b[0m\u001b[37m\u001b[0m \u001b[1m0s\u001b[0m 3ms/step - accuracy: 0.7637 - loss: 0.4949 \n",
      "Epoch 21/50\n",
      "\u001b[1m19/19\u001b[0m \u001b[32m━━━━━━━━━━━━━━━━━━━━\u001b[0m\u001b[37m\u001b[0m \u001b[1m0s\u001b[0m 3ms/step - accuracy: 0.7716 - loss: 0.4903 \n",
      "Epoch 22/50\n",
      "\u001b[1m19/19\u001b[0m \u001b[32m━━━━━━━━━━━━━━━━━━━━\u001b[0m\u001b[37m\u001b[0m \u001b[1m0s\u001b[0m 3ms/step - accuracy: 0.7836 - loss: 0.4873 \n",
      "Epoch 23/50\n",
      "\u001b[1m19/19\u001b[0m \u001b[32m━━━━━━━━━━━━━━━━━━━━\u001b[0m\u001b[37m\u001b[0m \u001b[1m0s\u001b[0m 3ms/step - accuracy: 0.7656 - loss: 0.4799 \n",
      "Epoch 24/50\n",
      "\u001b[1m19/19\u001b[0m \u001b[32m━━━━━━━━━━━━━━━━━━━━\u001b[0m\u001b[37m\u001b[0m \u001b[1m0s\u001b[0m 3ms/step - accuracy: 0.7595 - loss: 0.5025 \n",
      "Epoch 25/50\n",
      "\u001b[1m19/19\u001b[0m \u001b[32m━━━━━━━━━━━━━━━━━━━━\u001b[0m\u001b[37m\u001b[0m \u001b[1m0s\u001b[0m 3ms/step - accuracy: 0.7935 - loss: 0.4675 \n",
      "Epoch 26/50\n",
      "\u001b[1m19/19\u001b[0m \u001b[32m━━━━━━━━━━━━━━━━━━━━\u001b[0m\u001b[37m\u001b[0m \u001b[1m0s\u001b[0m 3ms/step - accuracy: 0.7876 - loss: 0.4780 \n",
      "Epoch 27/50\n",
      "\u001b[1m19/19\u001b[0m \u001b[32m━━━━━━━━━━━━━━━━━━━━\u001b[0m\u001b[37m\u001b[0m \u001b[1m0s\u001b[0m 3ms/step - accuracy: 0.7732 - loss: 0.4730 \n",
      "Epoch 28/50\n",
      "\u001b[1m19/19\u001b[0m \u001b[32m━━━━━━━━━━━━━━━━━━━━\u001b[0m\u001b[37m\u001b[0m \u001b[1m0s\u001b[0m 3ms/step - accuracy: 0.7576 - loss: 0.5014 \n",
      "Epoch 29/50\n",
      "\u001b[1m19/19\u001b[0m \u001b[32m━━━━━━━━━━━━━━━━━━━━\u001b[0m\u001b[37m\u001b[0m \u001b[1m0s\u001b[0m 3ms/step - accuracy: 0.7457 - loss: 0.5036 \n",
      "Epoch 30/50\n",
      "\u001b[1m19/19\u001b[0m \u001b[32m━━━━━━━━━━━━━━━━━━━━\u001b[0m\u001b[37m\u001b[0m \u001b[1m0s\u001b[0m 3ms/step - accuracy: 0.7730 - loss: 0.4718 \n",
      "Epoch 31/50\n",
      "\u001b[1m19/19\u001b[0m \u001b[32m━━━━━━━━━━━━━━━━━━━━\u001b[0m\u001b[37m\u001b[0m \u001b[1m0s\u001b[0m 3ms/step - accuracy: 0.7782 - loss: 0.4675 \n",
      "Epoch 32/50\n",
      "\u001b[1m19/19\u001b[0m \u001b[32m━━━━━━━━━━━━━━━━━━━━\u001b[0m\u001b[37m\u001b[0m \u001b[1m0s\u001b[0m 3ms/step - accuracy: 0.7596 - loss: 0.4765 \n",
      "Epoch 33/50\n",
      "\u001b[1m19/19\u001b[0m \u001b[32m━━━━━━━━━━━━━━━━━━━━\u001b[0m\u001b[37m\u001b[0m \u001b[1m0s\u001b[0m 3ms/step - accuracy: 0.7919 - loss: 0.4508 \n",
      "Epoch 34/50\n",
      "\u001b[1m19/19\u001b[0m \u001b[32m━━━━━━━━━━━━━━━━━━━━\u001b[0m\u001b[37m\u001b[0m \u001b[1m0s\u001b[0m 3ms/step - accuracy: 0.7820 - loss: 0.4573 \n",
      "Epoch 35/50\n",
      "\u001b[1m19/19\u001b[0m \u001b[32m━━━━━━━━━━━━━━━━━━━━\u001b[0m\u001b[37m\u001b[0m \u001b[1m0s\u001b[0m 3ms/step - accuracy: 0.7500 - loss: 0.4919 \n",
      "Epoch 36/50\n",
      "\u001b[1m19/19\u001b[0m \u001b[32m━━━━━━━━━━━━━━━━━━━━\u001b[0m\u001b[37m\u001b[0m \u001b[1m0s\u001b[0m 3ms/step - accuracy: 0.7810 - loss: 0.4433 \n",
      "Epoch 37/50\n",
      "\u001b[1m19/19\u001b[0m \u001b[32m━━━━━━━━━━━━━━━━━━━━\u001b[0m\u001b[37m\u001b[0m \u001b[1m0s\u001b[0m 3ms/step - accuracy: 0.7677 - loss: 0.4593 \n",
      "Epoch 38/50\n",
      "\u001b[1m19/19\u001b[0m \u001b[32m━━━━━━━━━━━━━━━━━━━━\u001b[0m\u001b[37m\u001b[0m \u001b[1m0s\u001b[0m 3ms/step - accuracy: 0.7626 - loss: 0.5010 \n",
      "Epoch 39/50\n",
      "\u001b[1m19/19\u001b[0m \u001b[32m━━━━━━━━━━━━━━━━━━━━\u001b[0m\u001b[37m\u001b[0m \u001b[1m0s\u001b[0m 3ms/step - accuracy: 0.7412 - loss: 0.4757 \n",
      "Epoch 40/50\n",
      "\u001b[1m19/19\u001b[0m \u001b[32m━━━━━━━━━━━━━━━━━━━━\u001b[0m\u001b[37m\u001b[0m \u001b[1m0s\u001b[0m 3ms/step - accuracy: 0.8069 - loss: 0.4564 \n",
      "Epoch 41/50\n",
      "\u001b[1m19/19\u001b[0m \u001b[32m━━━━━━━━━━━━━━━━━━━━\u001b[0m\u001b[37m\u001b[0m \u001b[1m0s\u001b[0m 3ms/step - accuracy: 0.7695 - loss: 0.4545 \n",
      "Epoch 42/50\n",
      "\u001b[1m19/19\u001b[0m \u001b[32m━━━━━━━━━━━━━━━━━━━━\u001b[0m\u001b[37m\u001b[0m \u001b[1m0s\u001b[0m 3ms/step - accuracy: 0.7806 - loss: 0.4634 \n",
      "Epoch 43/50\n",
      "\u001b[1m19/19\u001b[0m \u001b[32m━━━━━━━━━━━━━━━━━━━━\u001b[0m\u001b[37m\u001b[0m \u001b[1m0s\u001b[0m 4ms/step - accuracy: 0.7602 - loss: 0.4752 \n",
      "Epoch 44/50\n",
      "\u001b[1m19/19\u001b[0m \u001b[32m━━━━━━━━━━━━━━━━━━━━\u001b[0m\u001b[37m\u001b[0m \u001b[1m0s\u001b[0m 4ms/step - accuracy: 0.7637 - loss: 0.4695 \n",
      "Epoch 45/50\n",
      "\u001b[1m19/19\u001b[0m \u001b[32m━━━━━━━━━━━━━━━━━━━━\u001b[0m\u001b[37m\u001b[0m \u001b[1m0s\u001b[0m 3ms/step - accuracy: 0.7924 - loss: 0.4570 \n",
      "Epoch 46/50\n",
      "\u001b[1m19/19\u001b[0m \u001b[32m━━━━━━━━━━━━━━━━━━━━\u001b[0m\u001b[37m\u001b[0m \u001b[1m0s\u001b[0m 3ms/step - accuracy: 0.7877 - loss: 0.4576 \n",
      "Epoch 47/50\n",
      "\u001b[1m19/19\u001b[0m \u001b[32m━━━━━━━━━━━━━━━━━━━━\u001b[0m\u001b[37m\u001b[0m \u001b[1m0s\u001b[0m 3ms/step - accuracy: 0.7555 - loss: 0.5060 \n",
      "Epoch 48/50\n",
      "\u001b[1m19/19\u001b[0m \u001b[32m━━━━━━━━━━━━━━━━━━━━\u001b[0m\u001b[37m\u001b[0m \u001b[1m0s\u001b[0m 4ms/step - accuracy: 0.7746 - loss: 0.4684 \n",
      "Epoch 49/50\n",
      "\u001b[1m19/19\u001b[0m \u001b[32m━━━━━━━━━━━━━━━━━━━━\u001b[0m\u001b[37m\u001b[0m \u001b[1m0s\u001b[0m 3ms/step - accuracy: 0.7693 - loss: 0.4561 \n",
      "Epoch 50/50\n",
      "\u001b[1m19/19\u001b[0m \u001b[32m━━━━━━━━━━━━━━━━━━━━\u001b[0m\u001b[37m\u001b[0m \u001b[1m0s\u001b[0m 4ms/step - accuracy: 0.7953 - loss: 0.4469 \n"
     ]
    },
    {
     "data": {
      "text/plain": [
       "<keras.src.callbacks.history.History at 0x26cd17735b0>"
      ]
     },
     "execution_count": 43,
     "metadata": {},
     "output_type": "execute_result"
    }
   ],
   "source": [
    "model.fit(x_train,y_train,epochs=50)"
   ]
  },
  {
   "cell_type": "code",
   "execution_count": 44,
   "metadata": {},
   "outputs": [
    {
     "data": {
      "text/html": [
       "<pre style=\"white-space:pre;overflow-x:auto;line-height:normal;font-family:Menlo,'DejaVu Sans Mono',consolas,'Courier New',monospace\"><span style=\"font-weight: bold\">Model: \"sequential_1\"</span>\n",
       "</pre>\n"
      ],
      "text/plain": [
       "\u001b[1mModel: \"sequential_1\"\u001b[0m\n"
      ]
     },
     "metadata": {},
     "output_type": "display_data"
    },
    {
     "data": {
      "text/html": [
       "<pre style=\"white-space:pre;overflow-x:auto;line-height:normal;font-family:Menlo,'DejaVu Sans Mono',consolas,'Courier New',monospace\">┏━━━━━━━━━━━━━━━━━━━━━━━━━━━━━━━━━┳━━━━━━━━━━━━━━━━━━━━━━━━┳━━━━━━━━━━━━━━━┓\n",
       "┃<span style=\"font-weight: bold\"> Layer (type)                    </span>┃<span style=\"font-weight: bold\"> Output Shape           </span>┃<span style=\"font-weight: bold\">       Param # </span>┃\n",
       "┡━━━━━━━━━━━━━━━━━━━━━━━━━━━━━━━━━╇━━━━━━━━━━━━━━━━━━━━━━━━╇━━━━━━━━━━━━━━━┩\n",
       "│ dense_3 (<span style=\"color: #0087ff; text-decoration-color: #0087ff\">Dense</span>)                 │ (<span style=\"color: #00d7ff; text-decoration-color: #00d7ff\">None</span>, <span style=\"color: #00af00; text-decoration-color: #00af00\">28</span>)             │           <span style=\"color: #00af00; text-decoration-color: #00af00\">252</span> │\n",
       "├─────────────────────────────────┼────────────────────────┼───────────────┤\n",
       "│ dense_4 (<span style=\"color: #0087ff; text-decoration-color: #0087ff\">Dense</span>)                 │ (<span style=\"color: #00d7ff; text-decoration-color: #00d7ff\">None</span>, <span style=\"color: #00af00; text-decoration-color: #00af00\">64</span>)             │         <span style=\"color: #00af00; text-decoration-color: #00af00\">1,856</span> │\n",
       "├─────────────────────────────────┼────────────────────────┼───────────────┤\n",
       "│ dense_5 (<span style=\"color: #0087ff; text-decoration-color: #0087ff\">Dense</span>)                 │ (<span style=\"color: #00d7ff; text-decoration-color: #00d7ff\">None</span>, <span style=\"color: #00af00; text-decoration-color: #00af00\">2</span>)              │           <span style=\"color: #00af00; text-decoration-color: #00af00\">130</span> │\n",
       "└─────────────────────────────────┴────────────────────────┴───────────────┘\n",
       "</pre>\n"
      ],
      "text/plain": [
       "┏━━━━━━━━━━━━━━━━━━━━━━━━━━━━━━━━━┳━━━━━━━━━━━━━━━━━━━━━━━━┳━━━━━━━━━━━━━━━┓\n",
       "┃\u001b[1m \u001b[0m\u001b[1mLayer (type)                   \u001b[0m\u001b[1m \u001b[0m┃\u001b[1m \u001b[0m\u001b[1mOutput Shape          \u001b[0m\u001b[1m \u001b[0m┃\u001b[1m \u001b[0m\u001b[1m      Param #\u001b[0m\u001b[1m \u001b[0m┃\n",
       "┡━━━━━━━━━━━━━━━━━━━━━━━━━━━━━━━━━╇━━━━━━━━━━━━━━━━━━━━━━━━╇━━━━━━━━━━━━━━━┩\n",
       "│ dense_3 (\u001b[38;5;33mDense\u001b[0m)                 │ (\u001b[38;5;45mNone\u001b[0m, \u001b[38;5;34m28\u001b[0m)             │           \u001b[38;5;34m252\u001b[0m │\n",
       "├─────────────────────────────────┼────────────────────────┼───────────────┤\n",
       "│ dense_4 (\u001b[38;5;33mDense\u001b[0m)                 │ (\u001b[38;5;45mNone\u001b[0m, \u001b[38;5;34m64\u001b[0m)             │         \u001b[38;5;34m1,856\u001b[0m │\n",
       "├─────────────────────────────────┼────────────────────────┼───────────────┤\n",
       "│ dense_5 (\u001b[38;5;33mDense\u001b[0m)                 │ (\u001b[38;5;45mNone\u001b[0m, \u001b[38;5;34m2\u001b[0m)              │           \u001b[38;5;34m130\u001b[0m │\n",
       "└─────────────────────────────────┴────────────────────────┴───────────────┘\n"
      ]
     },
     "metadata": {},
     "output_type": "display_data"
    },
    {
     "data": {
      "text/html": [
       "<pre style=\"white-space:pre;overflow-x:auto;line-height:normal;font-family:Menlo,'DejaVu Sans Mono',consolas,'Courier New',monospace\"><span style=\"font-weight: bold\"> Total params: </span><span style=\"color: #00af00; text-decoration-color: #00af00\">6,716</span> (26.24 KB)\n",
       "</pre>\n"
      ],
      "text/plain": [
       "\u001b[1m Total params: \u001b[0m\u001b[38;5;34m6,716\u001b[0m (26.24 KB)\n"
      ]
     },
     "metadata": {},
     "output_type": "display_data"
    },
    {
     "data": {
      "text/html": [
       "<pre style=\"white-space:pre;overflow-x:auto;line-height:normal;font-family:Menlo,'DejaVu Sans Mono',consolas,'Courier New',monospace\"><span style=\"font-weight: bold\"> Trainable params: </span><span style=\"color: #00af00; text-decoration-color: #00af00\">2,238</span> (8.74 KB)\n",
       "</pre>\n"
      ],
      "text/plain": [
       "\u001b[1m Trainable params: \u001b[0m\u001b[38;5;34m2,238\u001b[0m (8.74 KB)\n"
      ]
     },
     "metadata": {},
     "output_type": "display_data"
    },
    {
     "data": {
      "text/html": [
       "<pre style=\"white-space:pre;overflow-x:auto;line-height:normal;font-family:Menlo,'DejaVu Sans Mono',consolas,'Courier New',monospace\"><span style=\"font-weight: bold\"> Non-trainable params: </span><span style=\"color: #00af00; text-decoration-color: #00af00\">0</span> (0.00 B)\n",
       "</pre>\n"
      ],
      "text/plain": [
       "\u001b[1m Non-trainable params: \u001b[0m\u001b[38;5;34m0\u001b[0m (0.00 B)\n"
      ]
     },
     "metadata": {},
     "output_type": "display_data"
    },
    {
     "data": {
      "text/html": [
       "<pre style=\"white-space:pre;overflow-x:auto;line-height:normal;font-family:Menlo,'DejaVu Sans Mono',consolas,'Courier New',monospace\"><span style=\"font-weight: bold\"> Optimizer params: </span><span style=\"color: #00af00; text-decoration-color: #00af00\">4,478</span> (17.50 KB)\n",
       "</pre>\n"
      ],
      "text/plain": [
       "\u001b[1m Optimizer params: \u001b[0m\u001b[38;5;34m4,478\u001b[0m (17.50 KB)\n"
      ]
     },
     "metadata": {},
     "output_type": "display_data"
    }
   ],
   "source": [
    "model.summary()"
   ]
  },
  {
   "cell_type": "code",
   "execution_count": null,
   "metadata": {},
   "outputs": [
    {
     "name": "stdout",
     "output_type": "stream",
     "text": [
      "\u001b[1m13/13\u001b[0m \u001b[32m━━━━━━━━━━━━━━━━━━━━\u001b[0m\u001b[37m\u001b[0m \u001b[1m0s\u001b[0m 4ms/step \n"
     ]
    },
    {
     "data": {
      "text/plain": [
       "array([[0.5523972 , 0.44760272],\n",
       "       [0.85381556, 0.14618441],\n",
       "       [0.6669419 , 0.33305812],\n",
       "       [0.13699639, 0.8630036 ],\n",
       "       [0.7065641 , 0.29343578],\n",
       "       [0.08096145, 0.91903853],\n",
       "       [0.6181697 , 0.38183028],\n",
       "       [0.0836117 , 0.91638833],\n",
       "       [0.47958314, 0.5204168 ],\n",
       "       [0.928502  , 0.07149795],\n",
       "       [0.2385986 , 0.7614015 ],\n",
       "       [0.59656066, 0.4034393 ],\n",
       "       [0.14830466, 0.85169536],\n",
       "       [0.13209753, 0.86790246],\n",
       "       [0.0410283 , 0.95897174],\n",
       "       [0.31616983, 0.68383014],\n",
       "       [0.46493334, 0.53506666],\n",
       "       [0.12569453, 0.8743055 ],\n",
       "       [0.5686307 , 0.43136927],\n",
       "       [0.5846109 , 0.4153891 ],\n",
       "       [0.36045158, 0.6395485 ],\n",
       "       [0.41110212, 0.5888979 ],\n",
       "       [0.89680105, 0.10319892],\n",
       "       [0.92755324, 0.07244677],\n",
       "       [0.78653073, 0.21346925],\n",
       "       [0.95055693, 0.04944307],\n",
       "       [0.07935949, 0.9206406 ],\n",
       "       [0.857267  , 0.142733  ],\n",
       "       [0.8615238 , 0.13847621],\n",
       "       [0.2014113 , 0.7985887 ],\n",
       "       [0.05656115, 0.9434388 ],\n",
       "       [0.9047864 , 0.09521352],\n",
       "       [0.42785716, 0.5721429 ],\n",
       "       [0.8412197 , 0.15878028],\n",
       "       [0.8189481 , 0.18105191],\n",
       "       [0.11359978, 0.8864002 ],\n",
       "       [0.5620481 , 0.43795195],\n",
       "       [0.82944226, 0.17055775],\n",
       "       [0.8986776 , 0.10132241],\n",
       "       [0.44962057, 0.5503794 ],\n",
       "       [0.2769411 , 0.7230589 ],\n",
       "       [0.8108029 , 0.18919712],\n",
       "       [0.49071258, 0.5092875 ],\n",
       "       [0.49899173, 0.50100833],\n",
       "       [0.23557286, 0.7644271 ],\n",
       "       [0.3455059 , 0.6544941 ],\n",
       "       [0.53642803, 0.46357197],\n",
       "       [0.63620466, 0.36379537],\n",
       "       [0.5369551 , 0.46304488],\n",
       "       [0.27885514, 0.72114486],\n",
       "       [0.9341038 , 0.06589625],\n",
       "       [0.8027215 , 0.19727856],\n",
       "       [0.2987098 , 0.70129025],\n",
       "       [0.3118378 , 0.6881622 ],\n",
       "       [0.740238  , 0.259762  ],\n",
       "       [0.67475975, 0.3252402 ],\n",
       "       [0.2939022 , 0.7060979 ],\n",
       "       [0.8891357 , 0.11086426],\n",
       "       [0.97987133, 0.0201287 ],\n",
       "       [0.78052443, 0.2194756 ],\n",
       "       [0.7766855 , 0.22331452],\n",
       "       [0.6905326 , 0.3094674 ],\n",
       "       [0.64731175, 0.35268825],\n",
       "       [0.25750926, 0.74249077],\n",
       "       [0.8846206 , 0.11537938],\n",
       "       [0.3880486 , 0.6119514 ],\n",
       "       [0.8499545 , 0.15004547],\n",
       "       [0.06023901, 0.939761  ],\n",
       "       [0.09090935, 0.9090906 ],\n",
       "       [0.05843514, 0.9415649 ],\n",
       "       [0.35721198, 0.642788  ],\n",
       "       [0.6496178 , 0.35038227],\n",
       "       [0.93873286, 0.06126717],\n",
       "       [0.05040018, 0.9495998 ],\n",
       "       [0.09754039, 0.9024597 ],\n",
       "       [0.4660735 , 0.5339265 ],\n",
       "       [0.6195001 , 0.3804999 ],\n",
       "       [0.4140926 , 0.58590746],\n",
       "       [0.41621372, 0.5837863 ],\n",
       "       [0.12000033, 0.87999976],\n",
       "       [0.43059957, 0.5694005 ],\n",
       "       [0.97492856, 0.0250714 ],\n",
       "       [0.2786714 , 0.72132856],\n",
       "       [0.6779512 , 0.32204875],\n",
       "       [0.4028076 , 0.5971924 ],\n",
       "       [0.55767846, 0.4423216 ],\n",
       "       [0.30655465, 0.6934453 ],\n",
       "       [0.87760484, 0.12239512],\n",
       "       [0.9341459 , 0.06585402],\n",
       "       [0.15447019, 0.84552985],\n",
       "       [0.77383524, 0.22616474],\n",
       "       [0.47316048, 0.52683955],\n",
       "       [0.0943457 , 0.9056544 ],\n",
       "       [0.09908967, 0.9009104 ],\n",
       "       [0.8498865 , 0.15011352],\n",
       "       [0.29396006, 0.7060399 ],\n",
       "       [0.8339279 , 0.166072  ],\n",
       "       [0.96353114, 0.03646882],\n",
       "       [0.14544028, 0.8545597 ],\n",
       "       [0.65457565, 0.3454244 ],\n",
       "       [0.74920434, 0.2507957 ],\n",
       "       [0.30560055, 0.6943995 ],\n",
       "       [0.19252087, 0.8074791 ],\n",
       "       [0.11468439, 0.8853156 ],\n",
       "       [0.8811719 , 0.11882815],\n",
       "       [0.12876007, 0.8712399 ],\n",
       "       [0.10301293, 0.8969871 ],\n",
       "       [0.12775923, 0.8722408 ],\n",
       "       [0.9800339 , 0.01996615],\n",
       "       [0.8952803 , 0.10471968],\n",
       "       [0.28829083, 0.71170914],\n",
       "       [0.89360654, 0.10639352],\n",
       "       [0.617248  , 0.382752  ],\n",
       "       [0.76829964, 0.23170038],\n",
       "       [0.18201101, 0.817989  ],\n",
       "       [0.54516   , 0.45484003],\n",
       "       [0.38998795, 0.61001205],\n",
       "       [0.3241211 , 0.67587894],\n",
       "       [0.07551888, 0.92448103],\n",
       "       [0.7340691 , 0.2659309 ],\n",
       "       [0.16121621, 0.8387838 ],\n",
       "       [0.5933978 , 0.4066022 ],\n",
       "       [0.19131258, 0.8086874 ],\n",
       "       [0.25714177, 0.74285823],\n",
       "       [0.55985755, 0.44014248],\n",
       "       [0.09309334, 0.90690666],\n",
       "       [0.94097126, 0.05902879],\n",
       "       [0.11906528, 0.88093466],\n",
       "       [0.9566384 , 0.04336165],\n",
       "       [0.53192484, 0.4680752 ],\n",
       "       [0.37932193, 0.62067807],\n",
       "       [0.8022788 , 0.19772124],\n",
       "       [0.92194855, 0.07805149],\n",
       "       [0.22964387, 0.7703561 ],\n",
       "       [0.83860755, 0.1613924 ],\n",
       "       [0.8458959 , 0.15410417],\n",
       "       [0.7770904 , 0.2229097 ],\n",
       "       [0.58855355, 0.41144645],\n",
       "       [0.8654266 , 0.13457336],\n",
       "       [0.25088573, 0.7491143 ],\n",
       "       [0.1379821 , 0.86201787],\n",
       "       [0.9257667 , 0.07423329],\n",
       "       [0.08591674, 0.91408324],\n",
       "       [0.2287413 , 0.7712587 ],\n",
       "       [0.05464092, 0.9453591 ],\n",
       "       [0.9501307 , 0.04986934],\n",
       "       [0.15568304, 0.84431696],\n",
       "       [0.35003766, 0.6499623 ],\n",
       "       [0.05382533, 0.9461747 ],\n",
       "       [0.9769206 , 0.02307944],\n",
       "       [0.7821368 , 0.21786325],\n",
       "       [0.13970792, 0.8602921 ],\n",
       "       [0.94028944, 0.0597106 ],\n",
       "       [0.28978312, 0.7102169 ],\n",
       "       [0.50763094, 0.4923691 ],\n",
       "       [0.89670163, 0.10329831],\n",
       "       [0.49106643, 0.5089336 ],\n",
       "       [0.73314565, 0.26685432],\n",
       "       [0.36986512, 0.63013494],\n",
       "       [0.85306317, 0.14693683],\n",
       "       [0.9788319 , 0.02116809],\n",
       "       [0.12077074, 0.8792293 ],\n",
       "       [0.9238323 , 0.07616771],\n",
       "       [0.6373053 , 0.36269474],\n",
       "       [0.3313646 , 0.6686354 ],\n",
       "       [0.11973998, 0.88026005],\n",
       "       [0.48624253, 0.5137575 ],\n",
       "       [0.06932604, 0.9306739 ],\n",
       "       [0.10576475, 0.89423525],\n",
       "       [0.1239902 , 0.8760098 ],\n",
       "       [0.04363986, 0.95636016],\n",
       "       [0.258574  , 0.741426  ],\n",
       "       [0.56627274, 0.43372726],\n",
       "       [0.28479004, 0.71521   ],\n",
       "       [0.8713071 , 0.12869292],\n",
       "       [0.4201758 , 0.57982415],\n",
       "       [0.30567816, 0.6943219 ],\n",
       "       [0.33487815, 0.66512185],\n",
       "       [0.09504388, 0.9049561 ],\n",
       "       [0.559436  , 0.44056395],\n",
       "       [0.49864084, 0.50135916],\n",
       "       [0.14277436, 0.85722566],\n",
       "       [0.7851488 , 0.21485119],\n",
       "       [0.25675648, 0.7432436 ],\n",
       "       [0.42240864, 0.57759136],\n",
       "       [0.47682276, 0.5231772 ],\n",
       "       [0.87576175, 0.12423827],\n",
       "       [0.2839309 , 0.7160691 ],\n",
       "       [0.19370171, 0.80629826],\n",
       "       [0.6688996 , 0.3311004 ],\n",
       "       [0.5004865 , 0.49951345],\n",
       "       [0.3989596 , 0.6010404 ],\n",
       "       [0.20826922, 0.7917308 ],\n",
       "       [0.04989074, 0.9501093 ],\n",
       "       [0.4573578 , 0.5426422 ],\n",
       "       [0.818672  , 0.18132795],\n",
       "       [0.9776782 , 0.02232176],\n",
       "       [0.5680163 , 0.43198374],\n",
       "       [0.98272324, 0.01727678],\n",
       "       [0.02302986, 0.9769702 ],\n",
       "       [0.46028668, 0.53971326],\n",
       "       [0.24220617, 0.75779384],\n",
       "       [0.9801602 , 0.01983981],\n",
       "       [0.87701327, 0.12298672],\n",
       "       [0.43244088, 0.5675591 ],\n",
       "       [0.7641968 , 0.23580326],\n",
       "       [0.62461126, 0.37538868],\n",
       "       [0.676445  , 0.32355496],\n",
       "       [0.76880175, 0.23119828],\n",
       "       [0.05540358, 0.94459635],\n",
       "       [0.7147196 , 0.2852804 ],\n",
       "       [0.7353072 , 0.26469284],\n",
       "       [0.06519549, 0.93480444],\n",
       "       [0.54199535, 0.4580047 ],\n",
       "       [0.91952294, 0.08047704],\n",
       "       [0.73136586, 0.2686341 ],\n",
       "       [0.6715121 , 0.3284879 ],\n",
       "       [0.82541996, 0.17458002],\n",
       "       [0.15454204, 0.845458  ],\n",
       "       [0.187665  , 0.81233495],\n",
       "       [0.9450053 , 0.05499473],\n",
       "       [0.55376416, 0.44623584],\n",
       "       [0.13076474, 0.8692353 ],\n",
       "       [0.78201586, 0.21798417],\n",
       "       [0.13052043, 0.86947954],\n",
       "       [0.8140675 , 0.1859325 ],\n",
       "       [0.03497956, 0.9650204 ],\n",
       "       [0.88713217, 0.1128679 ],\n",
       "       [0.08728017, 0.91271985],\n",
       "       [0.8606094 , 0.13939051],\n",
       "       [0.8090065 , 0.1909935 ],\n",
       "       [0.6760036 , 0.32399645],\n",
       "       [0.7030471 , 0.29695293],\n",
       "       [0.8589977 , 0.1410023 ],\n",
       "       [0.9391495 , 0.0608505 ],\n",
       "       [0.10041422, 0.8995858 ],\n",
       "       [0.13018051, 0.8698195 ],\n",
       "       [0.07187805, 0.928122  ],\n",
       "       [0.25513452, 0.7448655 ],\n",
       "       [0.65097016, 0.3490298 ],\n",
       "       [0.15920019, 0.84079987],\n",
       "       [0.7062419 , 0.2937581 ],\n",
       "       [0.33261454, 0.66738546],\n",
       "       [0.91381043, 0.08618956],\n",
       "       [0.58093756, 0.41906247],\n",
       "       [0.43531087, 0.56468916],\n",
       "       [0.79297984, 0.20702016],\n",
       "       [0.7354237 , 0.26457632],\n",
       "       [0.670989  , 0.32901102],\n",
       "       [0.40304843, 0.59695154],\n",
       "       [0.2866085 , 0.7133915 ],\n",
       "       [0.1743499 , 0.8256501 ],\n",
       "       [0.36172342, 0.6382766 ],\n",
       "       [0.87817127, 0.12182871],\n",
       "       [0.29770625, 0.70229375],\n",
       "       [0.16621435, 0.83378565],\n",
       "       [0.79152685, 0.20847313],\n",
       "       [0.2504968 , 0.74950314],\n",
       "       [0.20165692, 0.79834306],\n",
       "       [0.17862193, 0.8213781 ],\n",
       "       [0.8625424 , 0.13745756],\n",
       "       [0.23327859, 0.76672137],\n",
       "       [0.6062725 , 0.39372745],\n",
       "       [0.45117664, 0.5488234 ],\n",
       "       [0.84581655, 0.15418343],\n",
       "       [0.09193207, 0.90806794],\n",
       "       [0.7721592 , 0.22784074],\n",
       "       [0.5730714 , 0.42692855],\n",
       "       [0.44257885, 0.5574212 ],\n",
       "       [0.80494994, 0.19505003],\n",
       "       [0.9775553 , 0.02244469],\n",
       "       [0.4363441 , 0.5636559 ],\n",
       "       [0.12172385, 0.87827617],\n",
       "       [0.44723082, 0.5527691 ],\n",
       "       [0.4691753 , 0.53082466],\n",
       "       [0.88072914, 0.11927082],\n",
       "       [0.96349925, 0.03650076],\n",
       "       [0.7509616 , 0.24903841],\n",
       "       [0.8745258 , 0.12547421],\n",
       "       [0.53075767, 0.4692423 ],\n",
       "       [0.9724077 , 0.02759236],\n",
       "       [0.04839728, 0.9516027 ],\n",
       "       [0.20985617, 0.79014385],\n",
       "       [0.8740922 , 0.12590775],\n",
       "       [0.06214247, 0.93785757],\n",
       "       [0.12226473, 0.87773526],\n",
       "       [0.6791743 , 0.32082573],\n",
       "       [0.2695466 , 0.73045343],\n",
       "       [0.49617854, 0.5038215 ],\n",
       "       [0.75354016, 0.24645986],\n",
       "       [0.91697586, 0.08302417],\n",
       "       [0.22836468, 0.7716353 ],\n",
       "       [0.43606633, 0.5639337 ],\n",
       "       [0.2407879 , 0.7592121 ],\n",
       "       [0.85651565, 0.14348434],\n",
       "       [0.79765964, 0.2023404 ],\n",
       "       [0.77148515, 0.2285149 ],\n",
       "       [0.090826  , 0.90917397],\n",
       "       [0.424586  , 0.575414  ],\n",
       "       [0.9531373 , 0.0468627 ],\n",
       "       [0.60865414, 0.39134586],\n",
       "       [0.11508948, 0.88491046],\n",
       "       [0.3740431 , 0.62595683],\n",
       "       [0.1038506 , 0.8961494 ],\n",
       "       [0.387617  , 0.61238307],\n",
       "       [0.13520741, 0.8647926 ],\n",
       "       [0.4731691 , 0.526831  ],\n",
       "       [0.95731306, 0.04268693],\n",
       "       [0.12583739, 0.8741626 ],\n",
       "       [0.7850176 , 0.21498238],\n",
       "       [0.6165712 , 0.38342875],\n",
       "       [0.1241366 , 0.8758634 ],\n",
       "       [0.47584155, 0.5241584 ],\n",
       "       [0.98737   , 0.01262995],\n",
       "       [0.05166933, 0.9483307 ],\n",
       "       [0.7086234 , 0.2913766 ],\n",
       "       [0.8386478 , 0.16135217],\n",
       "       [0.875395  , 0.12460501],\n",
       "       [0.40674198, 0.593258  ],\n",
       "       [0.7840577 , 0.21594237],\n",
       "       [0.8710865 , 0.12891352],\n",
       "       [0.4568715 , 0.54312843],\n",
       "       [0.03269406, 0.96730596],\n",
       "       [0.6599243 , 0.34007576],\n",
       "       [0.9335406 , 0.06645942],\n",
       "       [0.22266017, 0.7773398 ],\n",
       "       [0.27105966, 0.72894037],\n",
       "       [0.9255535 , 0.07444652],\n",
       "       [0.8773553 , 0.12264474],\n",
       "       [0.960074  , 0.03992599],\n",
       "       [0.91066104, 0.08933899],\n",
       "       [0.45104986, 0.54895014],\n",
       "       [0.9684712 , 0.03152884],\n",
       "       [0.84387374, 0.1561263 ],\n",
       "       [0.2967634 , 0.70323664],\n",
       "       [0.5802419 , 0.41975808],\n",
       "       [0.61883163, 0.38116834],\n",
       "       [0.04244096, 0.95755905],\n",
       "       [0.9819572 , 0.01804275],\n",
       "       [0.06495026, 0.9350497 ],\n",
       "       [0.58085155, 0.4191484 ],\n",
       "       [0.15739414, 0.8426058 ],\n",
       "       [0.22861966, 0.7713803 ],\n",
       "       [0.19421828, 0.80578166],\n",
       "       [0.11731672, 0.8826833 ],\n",
       "       [0.42699757, 0.57300246],\n",
       "       [0.9715808 , 0.02841924],\n",
       "       [0.2218433 , 0.77815664],\n",
       "       [0.19661194, 0.80338806],\n",
       "       [0.25383243, 0.74616754],\n",
       "       [0.92100203, 0.07899799],\n",
       "       [0.4700181 , 0.52998185],\n",
       "       [0.9898149 , 0.01018507],\n",
       "       [0.76427984, 0.23572017],\n",
       "       [0.21690242, 0.78309757],\n",
       "       [0.3514622 , 0.6485378 ],\n",
       "       [0.90111524, 0.09888478],\n",
       "       [0.73599684, 0.26400316],\n",
       "       [0.20528954, 0.7947104 ],\n",
       "       [0.54512477, 0.45487517],\n",
       "       [0.23669223, 0.76330775],\n",
       "       [0.09256221, 0.9074378 ],\n",
       "       [0.1858507 , 0.81414926],\n",
       "       [0.2928562 , 0.7071438 ],\n",
       "       [0.89443606, 0.10556397],\n",
       "       [0.957934  , 0.04206599],\n",
       "       [0.9565402 , 0.04345978],\n",
       "       [0.6999176 , 0.30008236],\n",
       "       [0.76959383, 0.23040617],\n",
       "       [0.8343409 , 0.16565917],\n",
       "       [0.10727601, 0.89272404],\n",
       "       [0.22073781, 0.7792622 ],\n",
       "       [0.6552178 , 0.34478217],\n",
       "       [0.70609564, 0.29390436],\n",
       "       [0.682312  , 0.317688  ],\n",
       "       [0.8732509 , 0.12674905],\n",
       "       [0.88992876, 0.1100713 ],\n",
       "       [0.7426227 , 0.25737733],\n",
       "       [0.86301875, 0.13698117],\n",
       "       [0.58399445, 0.41600564],\n",
       "       [0.31894875, 0.6810512 ],\n",
       "       [0.9417143 , 0.05828574],\n",
       "       [0.41342115, 0.58657885],\n",
       "       [0.4545188 , 0.5454812 ],\n",
       "       [0.7420774 , 0.25792256]], dtype=float32)"
      ]
     },
     "execution_count": 49,
     "metadata": {},
     "output_type": "execute_result"
    }
   ],
   "source": [
    "y_pred = model.predict(x_test)"
   ]
  },
  {
   "cell_type": "code",
   "execution_count": 50,
   "metadata": {},
   "outputs": [
    {
     "name": "stdout",
     "output_type": "stream",
     "text": [
      "              precision    recall  f1-score   support\n",
      "\n",
      "           0       0.75      0.74      0.74       190\n",
      "           1       0.75      0.76      0.76       195\n",
      "\n",
      "    accuracy                           0.75       385\n",
      "   macro avg       0.75      0.75      0.75       385\n",
      "weighted avg       0.75      0.75      0.75       385\n",
      "\n"
     ]
    }
   ],
   "source": [
    "print(classification_report(y_test,y_pred))"
   ]
  }
 ],
 "metadata": {
  "kernelspec": {
   "display_name": "Python 3",
   "language": "python",
   "name": "python3"
  },
  "language_info": {
   "codemirror_mode": {
    "name": "ipython",
    "version": 3
   },
   "file_extension": ".py",
   "mimetype": "text/x-python",
   "name": "python",
   "nbconvert_exporter": "python",
   "pygments_lexer": "ipython3",
   "version": "3.10.11"
  }
 },
 "nbformat": 4,
 "nbformat_minor": 2
}
