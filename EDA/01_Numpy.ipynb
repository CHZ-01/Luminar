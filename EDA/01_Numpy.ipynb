{
  "nbformat": 4,
  "nbformat_minor": 0,
  "metadata": {
    "colab": {
      "provenance": []
    },
    "kernelspec": {
      "name": "python3",
      "display_name": "Python 3"
    },
    "language_info": {
      "name": "python"
    }
  },
  "cells": [
    {
      "cell_type": "code",
      "source": [
        "import numpy as np"
      ],
      "metadata": {
        "id": "90n6G77heJLc"
      },
      "execution_count": null,
      "outputs": []
    },
    {
      "cell_type": "markdown",
      "source": [
        "#Array Creations"
      ],
      "metadata": {
        "id": "CqCRO32CeOu2"
      }
    },
    {
      "cell_type": "code",
      "execution_count": null,
      "metadata": {
        "colab": {
          "base_uri": "https://localhost:8080/"
        },
        "id": "STDyCjD2lt83",
        "outputId": "ded20f82-ae91-4e06-8c86-9214cfb0da4b"
      },
      "outputs": [
        {
          "output_type": "execute_result",
          "data": {
            "text/plain": [
              "(2, 2, 3)"
            ]
          },
          "metadata": {},
          "execution_count": 75
        }
      ],
      "source": [
        "# 1D\n",
        "arr1 = np.array([1,2,3])\n",
        "arr1.ndim\n",
        "arr1.shape\n",
        "arr1.dtype\n",
        "\n",
        "# 2D\n",
        "arr2 = np.array([[1,2,3],[3,2,1]])\n",
        "arr2.ndim\n",
        "arr2.shape\n",
        "\n",
        "# 3D\n",
        "arr3 = np.array([[[1,2,3],[3,2,1]],[[4,5,6],[6,5,4]]])\n",
        "arr3.ndim\n",
        "arr3.shape"
      ]
    },
    {
      "cell_type": "markdown",
      "source": [
        "#Boolean Indexing"
      ],
      "metadata": {
        "id": "hwvLzmYfeUaQ"
      }
    },
    {
      "cell_type": "code",
      "source": [
        "# Boolean Indexing\n",
        "arr = np.array([[1,2,3,4],[5,6,7,8]])\n",
        "\n",
        "# for boolean\n",
        "arr %2 == 1\n",
        "\n",
        "# for values\n",
        "arr[arr %2 == 1]\n",
        "\n",
        "# multiple conditions boolean\n",
        "(arr == 1) | (arr == 2)\n",
        "\n",
        "# multiple conditions values\n",
        "arr[(arr == 1) | (arr == 2)]\n",
        "\n",
        "# assigning values\n",
        "arr[(arr == 1) | (arr == 2)] = 9,10\n",
        "arr"
      ],
      "metadata": {
        "colab": {
          "base_uri": "https://localhost:8080/"
        },
        "id": "PjPHou08cCQi",
        "outputId": "ee0b895b-3256-4bd7-8145-ccfe6ca9c0dc"
      },
      "execution_count": null,
      "outputs": [
        {
          "output_type": "execute_result",
          "data": {
            "text/plain": [
              "array([[ 9, 10,  3,  4],\n",
              "       [ 5,  6,  7,  8]])"
            ]
          },
          "metadata": {},
          "execution_count": 76
        }
      ]
    },
    {
      "cell_type": "markdown",
      "source": [
        "#Problems 1"
      ],
      "metadata": {
        "id": "9YwVRpNnfzZU"
      }
    },
    {
      "cell_type": "markdown",
      "source": [
        "1.Create a random integer array in between 1 to 10000 of shape (10,5) and filter odd numbers from the array."
      ],
      "metadata": {
        "id": "ZB3KWGHVRZCP"
      }
    },
    {
      "cell_type": "code",
      "source": [
        "arr = np.random.randint(1,10001,(10,5)).astype(float)\n",
        "arr"
      ],
      "metadata": {
        "colab": {
          "base_uri": "https://localhost:8080/"
        },
        "id": "LKgwLaXwRl3E",
        "outputId": "8ebe38dc-cf4e-41e6-8464-e7e05a10d626"
      },
      "execution_count": null,
      "outputs": [
        {
          "output_type": "execute_result",
          "data": {
            "text/plain": [
              "array([[2815., 7157., 3843., 7299.,  271.],\n",
              "       [1374.,   38., 1611., 5286., 5842.],\n",
              "       [4123., 3820.,   43., 8961., 8303.],\n",
              "       [2622., 2004., 9240., 3350., 1950.],\n",
              "       [7291., 4467., 4238., 5018., 2909.],\n",
              "       [8595., 8490., 9514., 7748., 6992.],\n",
              "       [4439., 9478., 7889., 9826., 6421.],\n",
              "       [2346.,  762., 6076., 9527., 4774.],\n",
              "       [7680., 3254., 2014., 7567., 3875.],\n",
              "       [9081., 4097., 8570., 6330., 5494.]])"
            ]
          },
          "metadata": {},
          "execution_count": 77
        }
      ]
    },
    {
      "cell_type": "markdown",
      "source": [
        "2.Compute the mean, median and standard deviation of above array Row-wise and column-wise."
      ],
      "metadata": {
        "id": "vTV27QHGeb_J"
      }
    },
    {
      "cell_type": "code",
      "source": [
        "# column\n",
        "print(\"Column\")\n",
        "print(\"Mean:\",np.mean(arr,axis=0))\n",
        "print(\"Median:\",np.median(arr,axis=0))\n",
        "print(\"Standard Devation:\",np.std(arr,axis=0))\n",
        "\n",
        "print()\n",
        "\n",
        "# row\n",
        "print(\"Row\")\n",
        "print(\"Mean:\",np.mean(arr,axis=1))\n",
        "print(\"Median:\",np.median(arr,axis=1))\n",
        "print(\"Standard Devation:\",np.std(arr,axis=1))"
      ],
      "metadata": {
        "colab": {
          "base_uri": "https://localhost:8080/"
        },
        "id": "A97UzQqmR-WN",
        "outputId": "0bdb3848-47df-4632-b73e-57d273c02f3d"
      },
      "execution_count": null,
      "outputs": [
        {
          "output_type": "stream",
          "name": "stdout",
          "text": [
            "Column\n",
            "Mean: [5036.6 4356.7 5303.8 7091.2 4683.1]\n",
            "Median: [4281.  3958.5 5157.  7433.  5134. ]\n",
            "Standard Devation: [2714.7895388  2997.42226088 3264.54449503 1993.5462272  2328.10611657]\n",
            "\n",
            "Row\n",
            "Mean: [4277.  2830.2 5050.  3833.2 4784.6 8267.8 7610.6 4697.  4878.  6714.4]\n",
            "Median: [3843. 1611. 4123. 2622. 4467. 8490. 7889. 4774. 3875. 6330.]\n",
            "Standard Devation: [2675.84453958 2302.4005212  3265.58441937 2750.5050009  1432.06376953\n",
            "  849.3885801  1997.34229415 3041.31208527 2320.6811931  1872.53673929]\n"
          ]
        }
      ]
    },
    {
      "cell_type": "markdown",
      "source": [
        "3.Extract the second and third rows and first and second columns from the above created random matrix."
      ],
      "metadata": {
        "id": "LzOYz-OFeskT"
      }
    },
    {
      "cell_type": "code",
      "source": [
        "print(\"First and Second Row:\")\n",
        "print(arr[:2])\n",
        "\n",
        "print()\n",
        "\n",
        "print(\"First and Second Column:\")\n",
        "print(arr[:,:2])"
      ],
      "metadata": {
        "colab": {
          "base_uri": "https://localhost:8080/"
        },
        "id": "HT0wOElnTJ8M",
        "outputId": "beabe85b-60c4-44a0-9bd9-691950868747"
      },
      "execution_count": null,
      "outputs": [
        {
          "output_type": "stream",
          "name": "stdout",
          "text": [
            "First and Second Row:\n",
            "[[2815. 7157. 3843. 7299.  271.]\n",
            " [1374.   38. 1611. 5286. 5842.]]\n",
            "\n",
            "First and Second Column:\n",
            "[[2815. 7157.]\n",
            " [1374.   38.]\n",
            " [4123. 3820.]\n",
            " [2622. 2004.]\n",
            " [7291. 4467.]\n",
            " [8595. 8490.]\n",
            " [4439. 9478.]\n",
            " [2346.  762.]\n",
            " [7680. 3254.]\n",
            " [9081. 4097.]]\n"
          ]
        }
      ]
    },
    {
      "cell_type": "markdown",
      "source": [
        "4.Change all the 3 digit numbers from the random integer matrix with its square root value."
      ],
      "metadata": {
        "id": "XwXChdRdeyF3"
      }
    },
    {
      "cell_type": "code",
      "source": [
        "arr[(arr>99) & (arr<1000)] **= 1/2\n",
        "arr"
      ],
      "metadata": {
        "colab": {
          "base_uri": "https://localhost:8080/"
        },
        "id": "KuG6GynpUY2V",
        "outputId": "ad1fbf26-eedc-450f-c990-d7dd8dbc77ff"
      },
      "execution_count": null,
      "outputs": [
        {
          "output_type": "execute_result",
          "data": {
            "text/plain": [
              "array([[2815.        , 7157.        , 3843.        , 7299.        ,\n",
              "          16.46207763],\n",
              "       [1374.        ,   38.        , 1611.        , 5286.        ,\n",
              "        5842.        ],\n",
              "       [4123.        , 3820.        ,   43.        , 8961.        ,\n",
              "        8303.        ],\n",
              "       [2622.        , 2004.        , 9240.        , 3350.        ,\n",
              "        1950.        ],\n",
              "       [7291.        , 4467.        , 4238.        , 5018.        ,\n",
              "        2909.        ],\n",
              "       [8595.        , 8490.        , 9514.        , 7748.        ,\n",
              "        6992.        ],\n",
              "       [4439.        , 9478.        , 7889.        , 9826.        ,\n",
              "        6421.        ],\n",
              "       [2346.        ,   27.60434748, 6076.        , 9527.        ,\n",
              "        4774.        ],\n",
              "       [7680.        , 3254.        , 2014.        , 7567.        ,\n",
              "        3875.        ],\n",
              "       [9081.        , 4097.        , 8570.        , 6330.        ,\n",
              "        5494.        ]])"
            ]
          },
          "metadata": {},
          "execution_count": 80
        }
      ]
    },
    {
      "cell_type": "markdown",
      "source": [
        "5.Find out the index value of maximum number.(row-wise and column-wise)."
      ],
      "metadata": {
        "id": "nvGZoaEQe19y"
      }
    },
    {
      "cell_type": "code",
      "source": [
        "print(\"Row\")\n",
        "print(np.argmax(arr,axis=1))\n",
        "\n",
        "print()\n",
        "\n",
        "print(\"Column\")\n",
        "print(np.argmax(arr,axis=0))\n"
      ],
      "metadata": {
        "colab": {
          "base_uri": "https://localhost:8080/"
        },
        "id": "MGI5_ptpWm-5",
        "outputId": "2b69d350-988c-4548-8f27-b30e9d03f01f"
      },
      "execution_count": null,
      "outputs": [
        {
          "output_type": "stream",
          "name": "stdout",
          "text": [
            "Row\n",
            "[3 4 3 2 0 2 3 3 0 0]\n",
            "\n",
            "Column\n",
            "[9 6 5 6 2]\n"
          ]
        }
      ]
    },
    {
      "cell_type": "markdown",
      "source": [
        "#NAN (Note A Number)"
      ],
      "metadata": {
        "id": "Prtlkx4mgIxy"
      }
    },
    {
      "cell_type": "code",
      "source": [
        "# Nan creation\n",
        "arr[[0,0,-1,-1],[0,-1,0,-1]] = np.nan\n",
        "arr"
      ],
      "metadata": {
        "colab": {
          "base_uri": "https://localhost:8080/"
        },
        "id": "KbiIpaONYmAB",
        "outputId": "95a07322-6967-4ea4-9bab-aa1bdce0d173"
      },
      "execution_count": null,
      "outputs": [
        {
          "output_type": "execute_result",
          "data": {
            "text/plain": [
              "array([[nan,  2.,  3., nan],\n",
              "       [ 5.,  6.,  7.,  8.],\n",
              "       [ 9., 10., 11., 12.],\n",
              "       [13., 14., 15., 16.],\n",
              "       [17., 18., 19., 20.],\n",
              "       [21., 22., 23., 24.],\n",
              "       [25., 26., 27., 28.],\n",
              "       [29., 30., 31., 32.],\n",
              "       [33., 34., 35., 36.],\n",
              "       [37., 38., 39., 40.],\n",
              "       [41., 42., 43., 44.],\n",
              "       [45., 46., 47., 48.],\n",
              "       [49., 50., 51., 45.],\n",
              "       [53., 54., 55., 45.],\n",
              "       [57., 58., 59., 45.],\n",
              "       [61., 62., 63., 45.],\n",
              "       [65., 66., 67., 45.],\n",
              "       [69., 70., 71., 45.],\n",
              "       [73., 74., 75., 45.],\n",
              "       [77., 78., 79., 45.],\n",
              "       [81., 82., 83., 45.],\n",
              "       [85., 86., 87., 45.],\n",
              "       [89., 90., 91., 45.],\n",
              "       [45., 45., 45., 45.],\n",
              "       [nan, 98., 99., nan]])"
            ]
          },
          "metadata": {},
          "execution_count": 103
        }
      ]
    },
    {
      "cell_type": "code",
      "source": [
        "# Nan check\n",
        "print(np.isnan(arr))\n",
        "print()\n",
        "\n",
        "# Nan Count\n",
        "print(np.isnan(arr).sum())\n",
        "print()\n",
        "\n",
        "# Mean without Nan\n",
        "print(np.nanmean(arr))"
      ],
      "metadata": {
        "colab": {
          "base_uri": "https://localhost:8080/"
        },
        "id": "RDbAT5vDehVV",
        "outputId": "b3bc7705-8387-4642-92b3-50ceece28e57"
      },
      "execution_count": null,
      "outputs": [
        {
          "output_type": "stream",
          "name": "stdout",
          "text": [
            "[[ True False False False  True]\n",
            " [False False False False False]\n",
            " [False False False False False]\n",
            " [False False False False False]\n",
            " [False False False False False]\n",
            " [False False False False False]\n",
            " [False False False False False]\n",
            " [False False False False False]\n",
            " [False False False False False]\n",
            " [ True False False False  True]]\n",
            "\n",
            "4\n",
            "\n",
            "5354.752268423558\n"
          ]
        }
      ]
    },
    {
      "cell_type": "code",
      "source": [
        "# Nan Replacement\n",
        "arr[np.isnan(arr)] = np.nanmean(arr)\n",
        "print(arr)\n",
        "\n",
        "print()\n",
        "\n",
        "# Nan Replacement with Indexing\n",
        "arr[[0,0,-1,-1],[0,-1,0,-1]] = np.nanmean(arr)\n",
        "print(arr)"
      ],
      "metadata": {
        "colab": {
          "base_uri": "https://localhost:8080/"
        },
        "id": "zAjTChFrf4cS",
        "outputId": "45372182-fb42-42f6-d3a9-b6537e69c1ce"
      },
      "execution_count": null,
      "outputs": [
        {
          "output_type": "stream",
          "name": "stdout",
          "text": [
            "[[45.34375  2.       3.      45.34375]\n",
            " [ 5.       6.       7.       8.     ]\n",
            " [ 9.      10.      11.      12.     ]\n",
            " [13.      14.      15.      16.     ]\n",
            " [17.      18.      19.      20.     ]\n",
            " [21.      22.      23.      24.     ]\n",
            " [25.      26.      27.      28.     ]\n",
            " [29.      30.      31.      32.     ]\n",
            " [33.      34.      35.      36.     ]\n",
            " [37.      38.      39.      40.     ]\n",
            " [41.      42.      43.      44.     ]\n",
            " [45.      46.      47.      48.     ]\n",
            " [49.      50.      51.      45.     ]\n",
            " [53.      54.      55.      45.     ]\n",
            " [57.      58.      59.      45.     ]\n",
            " [61.      62.      63.      45.     ]\n",
            " [65.      66.      67.      45.     ]\n",
            " [69.      70.      71.      45.     ]\n",
            " [73.      74.      75.      45.     ]\n",
            " [77.      78.      79.      45.     ]\n",
            " [81.      82.      83.      45.     ]\n",
            " [85.      86.      87.      45.     ]\n",
            " [89.      90.      91.      45.     ]\n",
            " [45.      45.      45.      45.     ]\n",
            " [45.34375 98.      99.      45.34375]]\n",
            "\n"
          ]
        }
      ]
    },
    {
      "cell_type": "markdown",
      "source": [
        "#Problems 2"
      ],
      "metadata": {
        "id": "rLCf1cYViIN7"
      }
    },
    {
      "cell_type": "markdown",
      "source": [
        "1.Create an array from the range of value 1 and 100(included)."
      ],
      "metadata": {
        "id": "zF2ChtWDgw8W"
      }
    },
    {
      "cell_type": "code",
      "source": [
        "arr = np.arange(1,101).astype(float)\n",
        "arr"
      ],
      "metadata": {
        "colab": {
          "base_uri": "https://localhost:8080/"
        },
        "id": "Gi96Qj3wg5X2",
        "outputId": "09ea0925-0242-4c90-b74a-dd90d03eb180"
      },
      "execution_count": null,
      "outputs": [
        {
          "output_type": "execute_result",
          "data": {
            "text/plain": [
              "array([  1.,   2.,   3.,   4.,   5.,   6.,   7.,   8.,   9.,  10.,  11.,\n",
              "        12.,  13.,  14.,  15.,  16.,  17.,  18.,  19.,  20.,  21.,  22.,\n",
              "        23.,  24.,  25.,  26.,  27.,  28.,  29.,  30.,  31.,  32.,  33.,\n",
              "        34.,  35.,  36.,  37.,  38.,  39.,  40.,  41.,  42.,  43.,  44.,\n",
              "        45.,  46.,  47.,  48.,  49.,  50.,  51.,  52.,  53.,  54.,  55.,\n",
              "        56.,  57.,  58.,  59.,  60.,  61.,  62.,  63.,  64.,  65.,  66.,\n",
              "        67.,  68.,  69.,  70.,  71.,  72.,  73.,  74.,  75.,  76.,  77.,\n",
              "        78.,  79.,  80.,  81.,  82.,  83.,  84.,  85.,  86.,  87.,  88.,\n",
              "        89.,  90.,  91.,  92.,  93.,  94.,  95.,  96.,  97.,  98.,  99.,\n",
              "       100.])"
            ]
          },
          "metadata": {},
          "execution_count": 85
        }
      ]
    },
    {
      "cell_type": "markdown",
      "source": [
        "2.reshape the above array into shape (25,4)."
      ],
      "metadata": {
        "id": "qFuyWA96fMvy"
      }
    },
    {
      "cell_type": "code",
      "source": [
        "arr = arr.reshape(25,4)\n",
        "arr"
      ],
      "metadata": {
        "colab": {
          "base_uri": "https://localhost:8080/"
        },
        "id": "5rnRzLvSkWUz",
        "outputId": "a7efe6b4-a7e6-4a45-9f4d-9644acc7b1c6"
      },
      "execution_count": null,
      "outputs": [
        {
          "output_type": "execute_result",
          "data": {
            "text/plain": [
              "array([[  1.,   2.,   3.,   4.],\n",
              "       [  5.,   6.,   7.,   8.],\n",
              "       [  9.,  10.,  11.,  12.],\n",
              "       [ 13.,  14.,  15.,  16.],\n",
              "       [ 17.,  18.,  19.,  20.],\n",
              "       [ 21.,  22.,  23.,  24.],\n",
              "       [ 25.,  26.,  27.,  28.],\n",
              "       [ 29.,  30.,  31.,  32.],\n",
              "       [ 33.,  34.,  35.,  36.],\n",
              "       [ 37.,  38.,  39.,  40.],\n",
              "       [ 41.,  42.,  43.,  44.],\n",
              "       [ 45.,  46.,  47.,  48.],\n",
              "       [ 49.,  50.,  51.,  52.],\n",
              "       [ 53.,  54.,  55.,  56.],\n",
              "       [ 57.,  58.,  59.,  60.],\n",
              "       [ 61.,  62.,  63.,  64.],\n",
              "       [ 65.,  66.,  67.,  68.],\n",
              "       [ 69.,  70.,  71.,  72.],\n",
              "       [ 73.,  74.,  75.,  76.],\n",
              "       [ 77.,  78.,  79.,  80.],\n",
              "       [ 81.,  82.,  83.,  84.],\n",
              "       [ 85.,  86.,  87.,  88.],\n",
              "       [ 89.,  90.,  91.,  92.],\n",
              "       [ 93.,  94.,  95.,  96.],\n",
              "       [ 97.,  98.,  99., 100.]])"
            ]
          },
          "metadata": {},
          "execution_count": 86
        }
      ]
    },
    {
      "cell_type": "markdown",
      "source": [
        "3.Convert all the value in the 23rd row into nan."
      ],
      "metadata": {
        "id": "XuauCXenfSlP"
      }
    },
    {
      "cell_type": "code",
      "source": [
        "arr[23] = np.nan\n",
        "arr"
      ],
      "metadata": {
        "colab": {
          "base_uri": "https://localhost:8080/"
        },
        "id": "rV1BMhWhkiSF",
        "outputId": "d1780bf3-00a7-4980-95e9-286fdb09abca"
      },
      "execution_count": null,
      "outputs": [
        {
          "output_type": "execute_result",
          "data": {
            "text/plain": [
              "array([[  1.,   2.,   3.,   4.],\n",
              "       [  5.,   6.,   7.,   8.],\n",
              "       [  9.,  10.,  11.,  12.],\n",
              "       [ 13.,  14.,  15.,  16.],\n",
              "       [ 17.,  18.,  19.,  20.],\n",
              "       [ 21.,  22.,  23.,  24.],\n",
              "       [ 25.,  26.,  27.,  28.],\n",
              "       [ 29.,  30.,  31.,  32.],\n",
              "       [ 33.,  34.,  35.,  36.],\n",
              "       [ 37.,  38.,  39.,  40.],\n",
              "       [ 41.,  42.,  43.,  44.],\n",
              "       [ 45.,  46.,  47.,  48.],\n",
              "       [ 49.,  50.,  51.,  52.],\n",
              "       [ 53.,  54.,  55.,  56.],\n",
              "       [ 57.,  58.,  59.,  60.],\n",
              "       [ 61.,  62.,  63.,  64.],\n",
              "       [ 65.,  66.,  67.,  68.],\n",
              "       [ 69.,  70.,  71.,  72.],\n",
              "       [ 73.,  74.,  75.,  76.],\n",
              "       [ 77.,  78.,  79.,  80.],\n",
              "       [ 81.,  82.,  83.,  84.],\n",
              "       [ 85.,  86.,  87.,  88.],\n",
              "       [ 89.,  90.,  91.,  92.],\n",
              "       [ nan,  nan,  nan,  nan],\n",
              "       [ 97.,  98.,  99., 100.]])"
            ]
          },
          "metadata": {},
          "execution_count": 87
        }
      ]
    },
    {
      "cell_type": "markdown",
      "source": [
        "4.Convert all numbers above 50 in the 4th column to nan."
      ],
      "metadata": {
        "id": "Dy5jJYxBfWsn"
      }
    },
    {
      "cell_type": "code",
      "source": [
        "arr[:,3][arr[:,3]>50] = np.nan\n",
        "arr"
      ],
      "metadata": {
        "colab": {
          "base_uri": "https://localhost:8080/"
        },
        "id": "eaIm8FSVk2X_",
        "outputId": "94beab1c-2285-4845-a339-28acc6aa817f"
      },
      "execution_count": null,
      "outputs": [
        {
          "output_type": "execute_result",
          "data": {
            "text/plain": [
              "array([[ 1.,  2.,  3.,  4.],\n",
              "       [ 5.,  6.,  7.,  8.],\n",
              "       [ 9., 10., 11., 12.],\n",
              "       [13., 14., 15., 16.],\n",
              "       [17., 18., 19., 20.],\n",
              "       [21., 22., 23., 24.],\n",
              "       [25., 26., 27., 28.],\n",
              "       [29., 30., 31., 32.],\n",
              "       [33., 34., 35., 36.],\n",
              "       [37., 38., 39., 40.],\n",
              "       [41., 42., 43., 44.],\n",
              "       [45., 46., 47., 48.],\n",
              "       [49., 50., 51., nan],\n",
              "       [53., 54., 55., nan],\n",
              "       [57., 58., 59., nan],\n",
              "       [61., 62., 63., nan],\n",
              "       [65., 66., 67., nan],\n",
              "       [69., 70., 71., nan],\n",
              "       [73., 74., 75., nan],\n",
              "       [77., 78., 79., nan],\n",
              "       [81., 82., 83., nan],\n",
              "       [85., 86., 87., nan],\n",
              "       [89., 90., 91., nan],\n",
              "       [nan, nan, nan, nan],\n",
              "       [97., 98., 99., nan]])"
            ]
          },
          "metadata": {},
          "execution_count": 88
        }
      ]
    },
    {
      "cell_type": "markdown",
      "source": [
        "5.Find out the number of missing values column-wise."
      ],
      "metadata": {
        "id": "aBzrtdvPfbGw"
      }
    },
    {
      "cell_type": "code",
      "source": [
        "np.sum(np.isnan(arr),axis=0)"
      ],
      "metadata": {
        "colab": {
          "base_uri": "https://localhost:8080/"
        },
        "id": "wIDHiGk-m1gi",
        "outputId": "8f1331bd-50df-4c49-bd73-637f9b175f03"
      },
      "execution_count": null,
      "outputs": [
        {
          "output_type": "execute_result",
          "data": {
            "text/plain": [
              "array([ 1,  1,  1, 13])"
            ]
          },
          "metadata": {},
          "execution_count": 89
        }
      ]
    },
    {
      "cell_type": "markdown",
      "source": [
        "#Matrix Multiplication"
      ],
      "metadata": {
        "id": "Bp331435ielo"
      }
    },
    {
      "cell_type": "code",
      "source": [
        "# Matrix Creation\n",
        "A = np.random.randint(1,10,(5,3))\n",
        "B = np.random.randint(1,10,(3,5))\n",
        "print(\"A\",A,sep=\"\\n\")\n",
        "print()\n",
        "print(\"B\",B,sep=\"\\n\")\n",
        "print()\n",
        "\n",
        "# Matrix Multiplication\n",
        "print(\"A x B\",A.dot(B),sep=\"\\n\")\n",
        "print()\n",
        "print(\"B x A\",B.dot(A),sep=\"\\n\")"
      ],
      "metadata": {
        "colab": {
          "base_uri": "https://localhost:8080/"
        },
        "id": "t6gW7--sZcqh",
        "outputId": "054960c0-d62e-475f-e42e-d63920902895"
      },
      "execution_count": null,
      "outputs": [
        {
          "output_type": "stream",
          "name": "stdout",
          "text": [
            "A\n",
            "[[5 9 2]\n",
            " [7 3 6]\n",
            " [5 8 8]\n",
            " [2 6 6]\n",
            " [2 2 8]]\n",
            "\n",
            "B\n",
            "[[3 3 8 9 2]\n",
            " [8 8 4 4 1]\n",
            " [3 6 6 4 1]]\n",
            "\n",
            "A x B\n",
            "[[ 93  99  88  89  21]\n",
            " [ 63  81 104  99  23]\n",
            " [103 127 120 109  26]\n",
            " [ 72  90  76  66  16]\n",
            " [ 46  70  72  58  14]]\n",
            "\n",
            "B x A\n",
            "[[ 98 158 158]\n",
            " [126 154 128]\n",
            " [ 97 119 122]]\n"
          ]
        }
      ]
    },
    {
      "cell_type": "code",
      "source": [
        "# A's column size should be equal to B's row size.\n",
        "A = np.random.randint(1,10,(5,3))\n",
        "B = np.random.randint(1,10,(3,2))\n",
        "\n",
        "A.dot(B)\n",
        "# or\n",
        "np.matmul(A,B)"
      ],
      "metadata": {
        "colab": {
          "base_uri": "https://localhost:8080/"
        },
        "id": "bAlSWVynbYHj",
        "outputId": "03b708d8-77e3-468a-a593-bd4509e3181e"
      },
      "execution_count": null,
      "outputs": [
        {
          "output_type": "execute_result",
          "data": {
            "text/plain": [
              "array([[27, 45],\n",
              "       [71, 86],\n",
              "       [80, 69],\n",
              "       [83, 94],\n",
              "       [29, 72]])"
            ]
          },
          "metadata": {},
          "execution_count": 91
        }
      ]
    },
    {
      "cell_type": "markdown",
      "source": [
        "#Problems 3"
      ],
      "metadata": {
        "id": "bzxT6h4G_Jqt"
      }
    },
    {
      "cell_type": "markdown",
      "source": [
        "Create Arrays"
      ],
      "metadata": {
        "id": "r-Mobwi5_X70"
      }
    },
    {
      "cell_type": "code",
      "source": [
        "arr1 = np.array([4, 7, 1, 8, 2, 6])\n",
        "\n",
        "arr2 = np.array([[1, 3, 5], [2, 4, 6], [3, 6, 9]])"
      ],
      "metadata": {
        "id": "5ZuqbucVfppd"
      },
      "execution_count": null,
      "outputs": []
    },
    {
      "cell_type": "markdown",
      "source": [
        "1.Find the shape, size, and datatype of both arrays."
      ],
      "metadata": {
        "id": "q3pcbbUA_cis"
      }
    },
    {
      "cell_type": "code",
      "source": [
        "# Array 1\n",
        "print(\"Array1\")\n",
        "print(\"Shape:\",np.shape(arr1))\n",
        "print(\"Size:\",np.size(arr1))\n",
        "print(\"Datatype:\",arr1.dtype)\n",
        "\n",
        "print()\n",
        "\n",
        "# Array 2\n",
        "print(\"Array2\")\n",
        "print(\"Shape:\",np.shape(arr2))\n",
        "print(\"Size:\",np.size(arr2))\n",
        "print(\"Datatype:\",arr2.dtype)"
      ],
      "metadata": {
        "colab": {
          "base_uri": "https://localhost:8080/"
        },
        "id": "odLuuXngf3Nu",
        "outputId": "0e0087fc-9741-4b91-944a-3766643f2652"
      },
      "execution_count": null,
      "outputs": [
        {
          "output_type": "stream",
          "name": "stdout",
          "text": [
            "Array1\n",
            "Shape: (6,)\n",
            "Size: 6\n",
            "Datatype: int64\n",
            "\n",
            "Array2\n",
            "Shape: (3, 3)\n",
            "Size: 9\n",
            "Datatype: int64\n"
          ]
        }
      ]
    },
    {
      "cell_type": "markdown",
      "source": [
        "2.Reshape Array 1 into a 2x3 array and print it.\n"
      ],
      "metadata": {
        "id": "-zhYKUq3_lOD"
      }
    },
    {
      "cell_type": "code",
      "source": [
        "arr1 = arr1.reshape(2,3)\n",
        "print(\"Array1\")\n",
        "print(arr1)"
      ],
      "metadata": {
        "colab": {
          "base_uri": "https://localhost:8080/"
        },
        "id": "Z7EEfnXkgl1l",
        "outputId": "493bf894-9310-41b4-fde9-98e151cb80bd"
      },
      "execution_count": null,
      "outputs": [
        {
          "output_type": "stream",
          "name": "stdout",
          "text": [
            "Array1\n",
            "[[4 7 1]\n",
            " [8 2 6]]\n"
          ]
        }
      ]
    },
    {
      "cell_type": "markdown",
      "source": [
        "3.Find Sum, Product & Dot product of Array 1 & 2"
      ],
      "metadata": {
        "id": "4j6n-XKg_9U9"
      }
    },
    {
      "cell_type": "code",
      "source": [
        "arr1_ex = arr1.reshape(2,3)\n",
        "arr2_ex = arr2[:2]\n",
        "\n",
        "# Add arr1 and arr2 (after reshaping arr1 to match arr2).\n",
        "print(\"Addition:\")\n",
        "print(arr1_ex + arr2_ex)\n",
        "print()\n",
        "\n",
        "# Compute the element-wise product of arr1 and arr2.\n",
        "print(\"Multiplication:\")\n",
        "print(arr1_ex * arr2_ex)\n",
        "print()\n",
        "\n",
        "# Calculate the dot product between arr1 and arr2.\n",
        "print(\"Dot Product:\")\n",
        "print(np.dot(arr1,arr2))\n",
        "print()"
      ],
      "metadata": {
        "colab": {
          "base_uri": "https://localhost:8080/"
        },
        "id": "jZm7bE58g2M4",
        "outputId": "476940e4-0c6c-407e-bb58-b52d3d394ccc"
      },
      "execution_count": null,
      "outputs": [
        {
          "output_type": "stream",
          "name": "stdout",
          "text": [
            "Addition:\n",
            "[[ 5 10  6]\n",
            " [10  6 12]]\n",
            "\n",
            "Multiplication:\n",
            "[[ 4 21  5]\n",
            " [16  8 36]]\n",
            "\n",
            "Dot Product:\n",
            "[[ 21  46  71]\n",
            " [ 30  68 106]]\n",
            "\n"
          ]
        }
      ]
    },
    {
      "cell_type": "markdown",
      "source": [
        "#Mean, Median, Std, Sum"
      ],
      "metadata": {
        "id": "lwdkz2LZDMPs"
      }
    },
    {
      "cell_type": "markdown",
      "source": [
        "4.Find the mean, median, and standard deviation of both arrays.\n"
      ],
      "metadata": {
        "id": "o0mhshB8Aanv"
      }
    },
    {
      "cell_type": "code",
      "source": [
        "# Array 1\n",
        "print(\"Array1\")\n",
        "print(\"Mean:\",np.mean(arr1))\n",
        "print(\"Median:\",np.median(arr1))\n",
        "print(\"Standard Deviation:\",np.std(arr1))\n",
        "\n",
        "print()\n",
        "\n",
        "# Array 2\n",
        "print(\"Array2\")\n",
        "print(\"Mean:\",np.mean(arr2))\n",
        "print(\"Median:\",np.median(arr2))\n",
        "print(\"Standard Deviation:\",np.std(arr2))"
      ],
      "metadata": {
        "colab": {
          "base_uri": "https://localhost:8080/"
        },
        "id": "vWz5CSoGiuPU",
        "outputId": "6a33aed0-c423-494f-8ee1-e3b79ee34774"
      },
      "execution_count": null,
      "outputs": [
        {
          "output_type": "stream",
          "name": "stdout",
          "text": [
            "Array1\n",
            "Mean: 4.666666666666667\n",
            "Median: 5.0\n",
            "Standard Deviation: 2.560381915956203\n",
            "\n",
            "Array2\n",
            "Mean: 4.333333333333333\n",
            "Median: 4.0\n",
            "Standard Deviation: 2.309401076758503\n"
          ]
        }
      ]
    },
    {
      "cell_type": "markdown",
      "source": [
        "5.Find the sum of all elements in Array 2 along the rows and columns.\n"
      ],
      "metadata": {
        "id": "AHRsHWRDAjHu"
      }
    },
    {
      "cell_type": "code",
      "source": [
        "# column\n",
        "print(\"Column:\",np.sum(arr2,axis=0))\n",
        "# row\n",
        "print(\"Row:\",np.sum(arr2,axis=1))"
      ],
      "metadata": {
        "colab": {
          "base_uri": "https://localhost:8080/"
        },
        "id": "v9cbgehajNBC",
        "outputId": "81f3c0c3-0f75-4f86-d16b-7a794c2e3ae7"
      },
      "execution_count": null,
      "outputs": [
        {
          "output_type": "stream",
          "name": "stdout",
          "text": [
            "Column: [ 6 13 20]\n",
            "Row: [ 9 12 18]\n"
          ]
        }
      ]
    },
    {
      "cell_type": "markdown",
      "source": [
        "6.Subtract the mean of each column from Array 2 and Multiply Array 1 by a scalar value."
      ],
      "metadata": {
        "id": "SrFoDDMIEh7r"
      }
    },
    {
      "cell_type": "code",
      "source": [
        "# Mean Substraction\n",
        "print(\"Mean:\")\n",
        "arr2_mean = np.mean(arr2,axis=0)\n",
        "print(arr2-arr2_mean)\n",
        "\n",
        "print()\n",
        "\n",
        "# Scalar Value Multiplication\n",
        "print(\"Scalar Value:\")\n",
        "print(arr1*2)"
      ],
      "metadata": {
        "colab": {
          "base_uri": "https://localhost:8080/"
        },
        "id": "vAfVL9TpkW4z",
        "outputId": "b0d0d341-cb77-4325-f60f-115d5dfa31b6"
      },
      "execution_count": null,
      "outputs": [
        {
          "output_type": "stream",
          "name": "stdout",
          "text": [
            "Mean:\n",
            "[[-1.         -1.33333333 -1.66666667]\n",
            " [ 0.         -0.33333333 -0.66666667]\n",
            " [ 1.          1.66666667  2.33333333]]\n",
            "\n",
            "Scalar Value:\n",
            "[[ 8 14  2]\n",
            " [16  4 12]]\n"
          ]
        }
      ]
    },
    {
      "cell_type": "markdown",
      "source": [
        "#Array Slicing"
      ],
      "metadata": {
        "id": "dndUXg_HDuJ-"
      }
    },
    {
      "cell_type": "markdown",
      "source": [
        "7.Extract all elements greater than 5 from Array 2 and Slice Array 2 to get the last two rows and first two columns.\n"
      ],
      "metadata": {
        "id": "d82BwllRA8_O"
      }
    },
    {
      "cell_type": "code",
      "source": [
        "# Elements greater than 5\n",
        "print(\"Greater than 5:\",arr2[arr2>5])\n",
        "print()\n",
        "\n",
        "# Last two rows\n",
        "print(\"Last Two Row:\")\n",
        "print(arr2[-2:])\n",
        "\n",
        "print()\n",
        "\n",
        "# First two columns\n",
        "print(\"First Two Column:\")\n",
        "print(arr2[:,:2])"
      ],
      "metadata": {
        "colab": {
          "base_uri": "https://localhost:8080/"
        },
        "id": "V2OeaDzojfmk",
        "outputId": "41fcbf08-ea71-4638-b9b3-370ce3d05021"
      },
      "execution_count": null,
      "outputs": [
        {
          "output_type": "stream",
          "name": "stdout",
          "text": [
            "Greater than 5: [6 6 9]\n",
            "\n",
            "Last Two Row:\n",
            "[[2 4 6]\n",
            " [3 6 9]]\n",
            "\n",
            "First Two Column:\n",
            "[[1 3]\n",
            " [2 4]\n",
            " [3 6]]\n"
          ]
        }
      ]
    },
    {
      "cell_type": "markdown",
      "source": [
        "#Array Sort"
      ],
      "metadata": {
        "id": "-mpkvg0rDyV-"
      }
    },
    {
      "cell_type": "markdown",
      "source": [
        "8.Sort both arrays and Find the indexes of the maximum value in both arrays.\n"
      ],
      "metadata": {
        "id": "BJJka8BhA_wv"
      }
    },
    {
      "cell_type": "code",
      "source": [
        "# Array 1 sort\n",
        "np.sort(arr1)\n",
        "print(\"Array1 Sort:\")\n",
        "print(arr1)\n",
        "print()\n",
        "\n",
        "# Array 2 sort\n",
        "np.sort(arr2)\n",
        "print(\"Array2 Sort:\")\n",
        "print(arr2)\n",
        "print()\n",
        "\n",
        "# Max Indexes\n",
        "print(\"Array1:\",np.argmax(arr1))\n",
        "print(\"Array2:\",np.argmax(arr2))"
      ],
      "metadata": {
        "colab": {
          "base_uri": "https://localhost:8080/"
        },
        "id": "zgUaHajLk90i",
        "outputId": "c753883a-a355-47e6-b460-3d9a53e4348d"
      },
      "execution_count": null,
      "outputs": [
        {
          "output_type": "stream",
          "name": "stdout",
          "text": [
            "Array1 Sort:\n",
            "[[4 7 1]\n",
            " [8 2 6]]\n",
            "\n",
            "Array2 Sort:\n",
            "[[1 3 5]\n",
            " [2 4 6]\n",
            " [3 6 9]]\n",
            "\n",
            "Array1: 3\n",
            "Array2: 8\n"
          ]
        }
      ]
    }
  ]
}