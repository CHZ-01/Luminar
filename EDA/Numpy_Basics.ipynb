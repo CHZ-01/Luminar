{
  "cells": [
    {
      "cell_type": "markdown",
      "metadata": {
        "id": "0vcZZF5tZKHg"
      },
      "source": [
        "Numpy basics"
      ]
    },
    {
      "cell_type": "markdown",
      "metadata": {
        "id": "wTdZxHgUreau"
      },
      "source": [
        "1dimensional array"
      ]
    },
    {
      "cell_type": "code",
      "execution_count": null,
      "metadata": {
        "colab": {
          "base_uri": "https://localhost:8080/"
        },
        "id": "I-ky3rsjZSa4",
        "outputId": "4ae722fd-bde9-497d-f592-4e2a2af4149b"
      },
      "outputs": [
        {
          "output_type": "execute_result",
          "data": {
            "text/plain": [
              "(4,)"
            ]
          },
          "metadata": {},
          "execution_count": 1
        }
      ],
      "source": [
        "import numpy as np\n",
        "# 1 dimensional arrays\n",
        "arr1=np.array([1,2,56,12])\n",
        "arr1.ndim  #for which dimension\n",
        "arr1.dtype #for datatype\n",
        "arr1.shape #to know the length or how many elements\n"
      ]
    },
    {
      "cell_type": "code",
      "execution_count": null,
      "metadata": {
        "colab": {
          "base_uri": "https://localhost:8080/"
        },
        "id": "hYfrLOcbWLLq",
        "outputId": "1668dc3f-c749-482d-8956-51c664eb27a4"
      },
      "outputs": [
        {
          "output_type": "execute_result",
          "data": {
            "text/plain": [
              "array([12, 56,  2,  1])"
            ]
          },
          "metadata": {},
          "execution_count": 2
        }
      ],
      "source": [
        "#arr1[2:]=[3,4]\n",
        "arr1[:]=arr1[::-1]\n",
        "arr1"
      ]
    },
    {
      "cell_type": "markdown",
      "metadata": {
        "id": "LqX0Wu9yicXt"
      },
      "source": [
        "2dimensional array\n"
      ]
    },
    {
      "cell_type": "code",
      "execution_count": null,
      "metadata": {
        "colab": {
          "base_uri": "https://localhost:8080/"
        },
        "id": "shf6Wfavil6R",
        "outputId": "2f16abcc-aab8-487a-a8fd-e53b3cb48797"
      },
      "outputs": [
        {
          "output_type": "execute_result",
          "data": {
            "text/plain": [
              "array([[ 1,  1,  1,  1,  1,  5],\n",
              "       [ 5,  1,  1,  1,  1,  6],\n",
              "       [ 1,  2,  3,  4, 54,  2]])"
            ]
          },
          "metadata": {},
          "execution_count": 3
        }
      ],
      "source": [
        "arr2=np.array([[1,2,3,4,2,5],[5,2,2,10,3,6],[1,2,3,4,54,2]])\n",
        "arr2.shape\n",
        "arr2.ndim\n",
        "arr2.dtype\n",
        "arr2.size  # to know the number of total elements\n",
        "arr2[1,4]\n",
        "arr2[0:2,1:-1]=1\n",
        "arr2\n",
        "# arr2[1:,0:2]=[1,2],[3,4]\n",
        "# arr2[:,5]=-1\n",
        "# arr2[0:,3]=[10,20,30]\n",
        "# #arr2[1,3]=\"hello\" -->it get error.it is an already created data.so datatype is integer,datatype can't change.\n",
        "# arr2[1]  #to get a particular row\n",
        "\n"
      ]
    },
    {
      "cell_type": "markdown",
      "metadata": {
        "id": "C9iZCjyylhqM"
      },
      "source": [
        "3dimensional array(3d array)"
      ]
    },
    {
      "cell_type": "code",
      "execution_count": null,
      "metadata": {
        "colab": {
          "base_uri": "https://localhost:8080/"
        },
        "id": "M3o8S5eGlsRV",
        "outputId": "571e1c99-6efc-446f-e803-013c23b1f899"
      },
      "outputs": [
        {
          "output_type": "execute_result",
          "data": {
            "text/plain": [
              "array([[[ 1,  2,  0],\n",
              "        [ 3, 21,  0]],\n",
              "\n",
              "       [[ 4,  2,  0],\n",
              "        [ 2,  1,  0]],\n",
              "\n",
              "       [[ 2,  6,  0],\n",
              "        [ 9,  6,  0]],\n",
              "\n",
              "       [[ 2,  5,  0],\n",
              "        [ 3,  5,  0]]])"
            ]
          },
          "metadata": {},
          "execution_count": 4
        }
      ],
      "source": [
        "# arr3=np.array([[1,2,3],[3,21,1],[4,2,1],[1,2,4]])\n",
        "arr3=np.array([[[1,2,3],[3,21,1],[4,2,1,],[1,2,4]],[[1,2,3],[3,21,1],[4,2,1,],[1,2,4]]])\n",
        "# arr3.ndim\n",
        "arr3.shape\n",
        "# arr3[0,2,2]\n",
        "# arr3=np.array([[1,2,3,4],[5,6,7,8]])\n",
        "# arr3.shape\n",
        "# arr1=np.array([[2,3,1,4],[2,1,2,10]])\n",
        "# # arr2=np.array([[10,2,1,7],[10,2,20,3]])\n",
        "# # arr1+arr2\n",
        "# arr1+[1,1,1,1]\n",
        "# arr1+10\n",
        "# arr1==1\n",
        "arr2=np.array([[[1,2,3],[3,21,1]],[[4,2,25],[2,1,5]],[[2,6,3],[9,6,8]],[[2,5,4],[3,5,4]]])\n",
        "arr2.shape\n",
        "arr2[1,0,2]\n",
        "arr2[1:3,0,2]\n",
        "arr2[:,:,2]=0\n",
        "arr2"
      ]
    },
    {
      "cell_type": "markdown",
      "metadata": {
        "id": "-7vsjGHAwlHO"
      },
      "source": [
        "Boolean indexing"
      ]
    },
    {
      "cell_type": "code",
      "execution_count": null,
      "metadata": {
        "colab": {
          "base_uri": "https://localhost:8080/"
        },
        "id": "BmHkqqdVwoqX",
        "outputId": "127b0153-7820-4ce3-a492-97a2f06cbcc9"
      },
      "outputs": [
        {
          "output_type": "execute_result",
          "data": {
            "text/plain": [
              "array([ 3,  1,  4,  1, 10])"
            ]
          },
          "metadata": {},
          "execution_count": 5
        }
      ],
      "source": [
        "arr1=np.array([[2,3,1,4],[2,1,2,10]])\n",
        "arr1==1\n",
        "arr1[arr1!=1]\n",
        "arr1[arr1>5]\n",
        "arr1[arr1<=4]\n",
        "arr1[[[True,False,False,True],[False,True,True,False]]]\n",
        "arr1[arr1%2==0]\n",
        "arr1[(arr1%2==0) & (arr1>3)]\n",
        "arr1[(arr1!=2) | (arr1>3)]\n",
        "\n"
      ]
    },
    {
      "cell_type": "markdown",
      "metadata": {
        "id": "Es-GxH_noUZB"
      },
      "source": [
        "Advanced Indexing"
      ]
    },
    {
      "cell_type": "code",
      "execution_count": null,
      "metadata": {
        "colab": {
          "base_uri": "https://localhost:8080/"
        },
        "id": "luBpvI7gy8Vt",
        "outputId": "98dbc203-cc66-4791-a304-86192995e41f"
      },
      "outputs": [
        {
          "output_type": "execute_result",
          "data": {
            "text/plain": [
              "array([[ 1,  3,  5],\n",
              "       [ 5,  2, 43],\n",
              "       [ 1,  3, 32],\n",
              "       [ 1,  3, 32],\n",
              "       [ 1,  3, 32]])"
            ]
          },
          "metadata": {},
          "execution_count": 6
        }
      ],
      "source": [
        "arr1=np.array([[2,3,1,4],[2,1,2,10]])\n",
        "arr1.shape\n",
        "arr2=np.array([[1,2,3,4,5,6],[5,2,2,10,43,2],[1,2,3,4,32,2],[1,2,3,44,32,2],[1,2,3,4,32,2]])\n",
        "arr2[[0,2,3]] # to get last 3 rows\n",
        "arr2[:,::2]\n"
      ]
    },
    {
      "cell_type": "code",
      "execution_count": null,
      "metadata": {
        "colab": {
          "base_uri": "https://localhost:8080/"
        },
        "id": "n-7ZOt3g29eV",
        "outputId": "b97bc2c8-2d41-4df3-f208-3fe415994692"
      },
      "outputs": [
        {
          "output_type": "execute_result",
          "data": {
            "text/plain": [
              "array([[ 1,  2,  3,  4,  5,  6],\n",
              "       [ 5,  2,  2, 10, 43,  2],\n",
              "       [ 1,  2,  3,  4, 32,  2],\n",
              "       [ 1,  2,  3, 44, 32,  2],\n",
              "       [ 1,  2,  3,  4, 32,  2]])"
            ]
          },
          "metadata": {},
          "execution_count": 7
        }
      ],
      "source": [
        "arr2"
      ]
    },
    {
      "cell_type": "markdown",
      "metadata": {
        "id": "SK7KRRj-4Z2C"
      },
      "source": [
        "Array Creation Methods"
      ]
    },
    {
      "cell_type": "code",
      "execution_count": null,
      "metadata": {
        "colab": {
          "base_uri": "https://localhost:8080/"
        },
        "id": "hulUda495VMs",
        "outputId": "a2bc7566-b4c6-4b79-d854-ebc29432eab3"
      },
      "outputs": [
        {
          "output_type": "execute_result",
          "data": {
            "text/plain": [
              "2"
            ]
          },
          "metadata": {},
          "execution_count": 8
        }
      ],
      "source": [
        "#0s Array\n",
        "np.zeros((2,4,5))\n",
        "np.array((np.zeros((2,4,5))))\n",
        "#1s Array\n",
        "np.ones((3,4,3))\n",
        "#with an given number array\n",
        "np.full((3,4),10)\n",
        "#Array with random numbers\n",
        "np.random.randint(1,100,(5,3)) #100 is not included in a range\n",
        "#Identity matrix\n",
        "np.identity(6)\n",
        "#0,5,9 hw\n",
        "#\n",
        "arr1=np.arange(1,101)\n",
        "# arr1.reshape((100,1)) #to change the shape upto 100\n",
        "# arr1.reshape((20,10)) #can't change because it has 200 elements but it has only 100.\n",
        "array=np.array([1,2,3])  #it is an 1d shape\n",
        "array.reshape((1,3)).ndim #it changes into 2d shape data"
      ]
    },
    {
      "cell_type": "markdown",
      "metadata": {
        "id": "Zrp_HV0A4Y8M"
      },
      "source": []
    },
    {
      "cell_type": "code",
      "execution_count": null,
      "metadata": {
        "colab": {
          "base_uri": "https://localhost:8080/"
        },
        "id": "yyTrLXnWom1S",
        "outputId": "6466faf9-9647-46f8-d4e5-c80e1ce4e7ed"
      },
      "outputs": [
        {
          "output_type": "execute_result",
          "data": {
            "text/plain": [
              "array([[  0.,   0.,   0.,   0.,   0.,   0.,   0.],\n",
              "       [  0.,   0.,   0., 255., 255., 255.,   0.],\n",
              "       [  0.,   0.,   0., 255.,   0.,   0.,   0.],\n",
              "       [  0.,   0.,   0., 255., 255., 255.,   0.],\n",
              "       [  0.,   0.,   0., 255., 255., 255.,   0.],\n",
              "       [  0.,   0.,   0.,   0.,   0., 255.,   0.],\n",
              "       [  0.,   0.,   0.,   0.,   0., 255.,   0.]])"
            ]
          },
          "metadata": {},
          "execution_count": 9
        }
      ],
      "source": [
        "#hw\n",
        "arr1=np.zeros((7,7))\n",
        "arr1[:,3]=255\n",
        "arr1[[1,-1,-1],[2,2,4]]=255\n",
        "arr1\n",
        "arr2=np.zeros((7,7))\n",
        "arr2[[0,0,0,0,0,1,2,3,4,5,6,6,6,6,6,5,4,3,2,1,0],[1,3,2,4,5,1,1,1,1,1,1,2,3,4,5,5,5,5,5,5,4]]=56\n",
        "arr2\n",
        "arr4=np.zeros((7,7))\n",
        "arr4[[1,1,1,2,3,3,3,4,5,6,-3,-3,-3],[3,4,5,3,3,4,5,5,5,5,3,4,5]]=255\n",
        "arr4\n",
        "# arr4=np.zeros((7,7))\n",
        "# arr4[[1,2,3,4,-2,4,3,2,1,1,-2,-2],[3,2,2,2,3,4,4,4,2,4,2,4]]=255\n",
        "# arr4"
      ]
    },
    {
      "cell_type": "code",
      "execution_count": null,
      "metadata": {
        "colab": {
          "base_uri": "https://localhost:8080/"
        },
        "id": "dSAI0m7IuSgX",
        "outputId": "03e09139-bd7b-4318-f257-b3a704cd6389"
      },
      "outputs": [
        {
          "output_type": "execute_result",
          "data": {
            "text/plain": [
              "array([[  0.,   0.,   0.,   0.,   0.,   0.,   0.,   0.,   0.,   0.],\n",
              "       [  0.,   0.,   0., 255., 255., 255.,   0.,   0.,   0.,   0.],\n",
              "       [  0.,   0.,   0., 255.,   0.,   0.,   0.,   0.,   0.,   0.],\n",
              "       [  0.,   0.,   0., 255., 255., 255.,   0.,   0.,   0.,   0.],\n",
              "       [  0.,   0.,   0.,   0.,   0., 255.,   0.,   0.,   0.,   0.],\n",
              "       [  0.,   0.,   0.,   0.,   0., 255.,   0.,   0.,   0.,   0.],\n",
              "       [  0.,   0.,   0.,   0.,   0., 255.,   0.,   0.,   0.,   0.],\n",
              "       [  0.,   0.,   0., 255., 255., 255.,   0.,   0.,   0.,   0.],\n",
              "       [  0.,   0.,   0.,   0.,   0.,   0.,   0.,   0.,   0.,   0.],\n",
              "       [  0.,   0.,   0.,   0.,   0.,   0.,   0.,   0.,   0.,   0.]])"
            ]
          },
          "metadata": {},
          "execution_count": 10
        }
      ],
      "source": [
        "arr3=np.zeros((10,10)) #5\n",
        "arr3[[1,1,1,2,3,3,3,4,5,6,-3,-3,-3],[3,4,5,3,3,4,5,5,5,5,3,4,5]]=255\n",
        "arr3\n",
        "# arr4=np.zeros((10,10)) #9\n",
        "# arr4[[1,1,1,2,3,3,3,4,5,6,-3,-3,-3,2],[3,4,5,3,3,4,5,5,5,5,3,4,5,5]]=255\n",
        "# arr4"
      ]
    },
    {
      "cell_type": "code",
      "execution_count": null,
      "metadata": {
        "colab": {
          "base_uri": "https://localhost:8080/",
          "height": 467
        },
        "id": "z5rl_BvHqEii",
        "outputId": "3930cfd8-0863-4704-e918-031e0965e549"
      },
      "outputs": [
        {
          "output_type": "execute_result",
          "data": {
            "text/plain": [
              "<matplotlib.image.AxesImage at 0x7805de791e40>"
            ]
          },
          "metadata": {},
          "execution_count": 11
        },
        {
          "output_type": "display_data",
          "data": {
            "text/plain": [
              "<Figure size 640x480 with 1 Axes>"
            ],
            "image/png": "[encoded data removed]"
          },
          "metadata": {}
        }
      ],
      "source": [
        "import matplotlib.pyplot as plt\n",
        "plt.imshow(arr3)"
      ]
    },
    {
      "cell_type": "code",
      "execution_count": null,
      "metadata": {
        "colab": {
          "base_uri": "https://localhost:8080/"
        },
        "id": "jyrWYMGVdOs6",
        "outputId": "ce9968d7-f2e2-48f0-c11a-bfe68baa64e2"
      },
      "outputs": [
        {
          "output_type": "execute_result",
          "data": {
            "text/plain": [
              "array([[-71, -53,  20,  54,  22],\n",
              "       [ 52,  78, -85,  34,  19],\n",
              "       [  0,  18,  45,  32,  28],\n",
              "       [ 27, -89, -65, -73,   3],\n",
              "       [-55,  21, -57, -65,  92],\n",
              "       [-53, -89,   9, -99,  21]])"
            ]
          },
          "metadata": {},
          "execution_count": 12
        }
      ],
      "source": [
        "#Greater than 50 and an odd number.\n",
        "arr1=np.random.randint(1,101,(6,5))\n",
        "arr1[(arr1>50) & (arr1%2!=0)]\n",
        "arr1-=1 #it substract 1 from every numbers.\n",
        "arr1\n",
        "#change the magnitude\n",
        "arr1[(arr1>50) & (arr1%2!=0)]*=-1\n",
        "arr1"
      ]
    },
    {
      "cell_type": "code",
      "source": [
        "#statistical summary\n",
        "# mean\n",
        "np.mean(arr1,axis=0) #column wise mean value\n",
        "np.mean(arr1,axis=1) #row wise mean value\n",
        "# median\n",
        "np.median(arr1,axis=0)\n",
        "np.median(arr1,axis=1)\n",
        "# min\n",
        "np.min(arr1,axis=0)\n",
        "# max\n",
        "np.max(arr1,axis=1)\n",
        "# standard deviation(root of variance)\n",
        "x=[10,14,12,19,21]\n",
        "mean=sum(x)/len(x)\n",
        "(10-mean)**2+(14-mean)**2+(12-mean)**2+(19-mean)**2+(21-mean)**2\n",
        "86.8/5 # variance\n",
        "np.sqrt(86.8/5) #it is the sd\n",
        "np.std(arr1,axis=0)\n",
        "# variance\n",
        "np.var(arr1)\n",
        "# sum\n",
        "np.sum(arr1,axis=0)\n",
        "# argmax (index position of max value)\n",
        "np.argmax(arr1)\n",
        "np.argmax(arr1,axis=0) #we get the index values of column wise elements\n",
        "# argmin (index position of min value)\n",
        "np.argmin(arr1,axis=1)\n",
        "\n"
      ],
      "metadata": {
        "colab": {
          "base_uri": "https://localhost:8080/"
        },
        "id": "AY74yJ-03NCP",
        "outputId": "dbe1e2aa-a283-4c29-b4ba-6330e1b9f44e"
      },
      "execution_count": null,
      "outputs": [
        {
          "output_type": "execute_result",
          "data": {
            "text/plain": [
              "array([0, 2, 0, 1, 3, 3])"
            ]
          },
          "metadata": {},
          "execution_count": 13
        }
      ]
    },
    {
      "cell_type": "code",
      "source": [
        "#1 Create a random integer array in between 1 to 10000 of shape (10,5) and filter odd numbers from the array\n",
        "arr2=np.random.randint(1,10001,(10,5))\n",
        "arr2[(arr2%2!=0)]\n",
        "#2 Compute the mean, median and standard deviation of above array\n",
        "#                         Row-wise and column-wise\n",
        "arr2[arr2%2!=0]\n",
        "np.mean(arr2,axis=0) #0--column\n",
        "np.mean(arr2,axis=1) #1--row\n",
        "np.median(arr2,axis=0)\n",
        "np.median(arr2,axis=1)\n",
        "np.std(arr2,axis=0)\n",
        "np.std(arr2,axis=1)\n",
        "#3 Extract the second and third rows and first and second columns from the above created random matrix.\n",
        "# arr2[1,3,0,2]\n",
        "# arr2[[1,2]]\n",
        "#4 Change all the 3 digit numbers from the random integer matrix with its square root value.\n",
        "# arr2=np.array(arr2,dtype)\n",
        "# arr2[(arr2>99)&(arr2<1000)]**=(1/2)\n",
        "#5 Find out the index value of maximum number.(row-wise and column-wise).\n",
        "np.argmax(arr2,axis=0)\n",
        "np.argmin(arr2,axis=1)"
      ],
      "metadata": {
        "colab": {
          "base_uri": "https://localhost:8080/"
        },
        "id": "TkAHX19N9EYu",
        "outputId": "6d703718-129c-46b6-fd89-b76817fa7beb"
      },
      "execution_count": null,
      "outputs": [
        {
          "output_type": "execute_result",
          "data": {
            "text/plain": [
              "array([2, 3, 1, 0, 3, 0, 4, 0, 4, 0])"
            ]
          },
          "metadata": {},
          "execution_count": 14
        }
      ]
    },
    {
      "cell_type": "code",
      "source": [
        "#nan\n",
        "np.sum(arr2>1000) #total count of the true values\n",
        "#nan-not a number-(used to represent the missing value)\n",
        "arr2\n",
        "arr2[(0,0,-1,-1),(0,-1,0,-1)]\n",
        "arr2=np.array(arr2,dtype='float')\n",
        "arr2[(0,0,-1,-1),(0,-1,0,-1)]=np.nan\n",
        "arr2\n",
        "np.sum(np.isnan(arr2),axis=0) #to know the number of missing value in column\n",
        "np.nanmean(arr2)\n",
        "np.nanmedian(arr2) #find the sum of median except nan\n",
        "arr2[np.isnan(arr2)]=np.nanmean(arr2)\n",
        "arr2\n",
        "#Create an array from the range of value 1 and 100(included)\n",
        "arr1=np.arange(1,101)\n",
        "arr1\n",
        "# And reshape the above array into shape (25,4)\n",
        "arr1=np.reshape(arr1,(25,4))\n",
        "arr1\n",
        "# Convert all the value in the 23rd row into nan.\n",
        "arr1=np.array(arr1,dtype='float')\n",
        "arr1[22]=np.nan\n",
        "arr1\n",
        "# Convert all numbers which is greater than 50 into nan in the 4th column\n",
        "# arr1[(arr1>50)]=np.nan\n",
        "arr1[:,3][arr1[:,3]>50]=np.nan\n",
        "arr1\n",
        "# arr1[:,3][arr1[:,3]]\n",
        "# Find out the number of missing values column-wise.\n",
        "np.sum(np.isnan(arr1),axis=0)"
      ],
      "metadata": {
        "colab": {
          "base_uri": "https://localhost:8080/"
        },
        "id": "x8qQkQpXWguT",
        "outputId": "9d186041-83af-4e40-cce7-20aff6b949ce"
      },
      "execution_count": null,
      "outputs": [
        {
          "output_type": "execute_result",
          "data": {
            "text/plain": [
              "array([ 1,  1,  1, 13])"
            ]
          },
          "metadata": {},
          "execution_count": 15
        }
      ]
    },
    {
      "cell_type": "code",
      "source": [
        "#Matrix Multiplication\n",
        "#The number columns in the matrix A should be equal to number of rows in matrix B\n",
        "#A X B\n",
        "A=np.random.randint(1,11,(5,3))\n",
        "B=np.random.randint(1,11,(3,3))\n"
      ],
      "metadata": {
        "id": "ifDUzMw3krgx"
      },
      "execution_count": null,
      "outputs": []
    },
    {
      "cell_type": "code",
      "source": [
        "A.dot(B)\n",
        "np.matmul(A,B)"
      ],
      "metadata": {
        "id": "FjIRpnPBkT0n",
        "colab": {
          "base_uri": "https://localhost:8080/"
        },
        "outputId": "4d3bc18c-15b1-45f2-cdbb-f1f5a79102a4"
      },
      "execution_count": null,
      "outputs": [
        {
          "output_type": "execute_result",
          "data": {
            "text/plain": [
              "array([[ 54,  87,  78],\n",
              "       [ 40,  71,  67],\n",
              "       [ 39,  61,  49],\n",
              "       [ 39,  68,  65],\n",
              "       [ 73, 111,  83]])"
            ]
          },
          "metadata": {},
          "execution_count": 17
        }
      ]
    },
    {
      "cell_type": "code",
      "source": [
        "c=np.array([1,2,3])\n",
        "d=np.array([2,1,4])\n",
        "c.dot(d)"
      ],
      "metadata": {
        "colab": {
          "base_uri": "https://localhost:8080/"
        },
        "id": "ZNnKGyJ6ctdB",
        "outputId": "91cbc8e1-79f5-4844-b48c-d17cf4f5f1bd"
      },
      "execution_count": null,
      "outputs": [
        {
          "output_type": "execute_result",
          "data": {
            "text/plain": [
              "16"
            ]
          },
          "metadata": {},
          "execution_count": 18
        }
      ]
    },
    {
      "cell_type": "code",
      "source": [
        "np.linalg.det(B)"
      ],
      "metadata": {
        "colab": {
          "base_uri": "https://localhost:8080/"
        },
        "id": "b8gDLVOTdEaD",
        "outputId": "e737c292-92bd-4548-d727-9e2cea461208"
      },
      "execution_count": null,
      "outputs": [
        {
          "output_type": "execute_result",
          "data": {
            "text/plain": [
              "-33.00000000000004"
            ]
          },
          "metadata": {},
          "execution_count": 19
        }
      ]
    },
    {
      "cell_type": "code",
      "source": [
        "# You are given two NumPy arrays:\n",
        "arr1 = np.array([4, 7, 1, 8, 2, 6])\n",
        "arr2 = np.array([[1, 3, 5], [2, 4, 6], [3, 6, 9]])\n",
        "# Perform the following operations:\n",
        "# 1. Basic Array Operations:\n",
        "\n",
        "# Find the shape, size, and datatype of both arrays.\n",
        "arr1.shape\n",
        "arr1.size\n",
        "arr1.dtype\n",
        "\n",
        "arr2.shape\n",
        "arr2.size\n",
        "arr2.dtype\n",
        "# # Reshape arr1 into a 2x3 array and print it.\n",
        "arr1=arr1.reshape((2,3))\n",
        "\n",
        "# 2. Mathematical Operations:\n",
        "# Add arr1 and arr2 (after reshaping arr1 to match arr2).\n",
        "arr1+arr2[:-1,:]\n",
        "\n",
        "# Compute the element-wise product of arr1 and arr2.\n",
        "arr1*arr2[:-1,:]\n",
        "\n",
        "# Calculate the dot product between arr1 and arr2.\n",
        "arr1.dot(arr2)\n",
        "\n",
        "# 3. Statistical Operations:\n",
        "# Find the mean, median, and standard deviation of both arrays.\n",
        "np.mean(arr1)\n",
        "np.mean(arr2)\n",
        "\n",
        "np.median(arr1)\n",
        "np.median(arr2)\n",
        "\n",
        "np.std(arr1)\n",
        "np.std(arr2)\n",
        "\n",
        "# Find the sum of all elements in arr2 along the rows and columns.\n",
        "np.sum(arr2,axis=0)\n",
        "np.sum(arr2,axis=1)\n",
        "\n",
        "# 4. Indexing and Slicing:\n",
        "# Extract all elements greater than 5 from arr2.\n",
        "arr2[arr2>5]\n",
        "\n",
        "# Slice arr2 to get the last two rows and first two columns.\n",
        "arr2[-2:,:2]\n",
        "\n",
        "# 5. Broadcasting:\n",
        "# Subtract the mean of each column from arr2.\n",
        "arr2-np.mean(arr2,axis=0)\n",
        "# Multiply arr1 by a scalar value (e.g., 2).\n",
        "arr1*2\n",
        "\n",
        "# 6. Sorting and Searching:\n",
        "# Sort both arrays.\n",
        "np.sort(arr1)\n",
        "np.sort(arr2)\n",
        "# Find the indices of the maximum value in both arrays.\n",
        "np.argmax(arr1)\n",
        "np.argmax(arr2)"
      ],
      "metadata": {
        "colab": {
          "base_uri": "https://localhost:8080/"
        },
        "id": "NDRYxGf2fMjf",
        "outputId": "8e42149f-9ed4-4760-ba96-044266e8b272"
      },
      "execution_count": null,
      "outputs": [
        {
          "output_type": "execute_result",
          "data": {
            "text/plain": [
              "8"
            ]
          },
          "metadata": {},
          "execution_count": 20
        }
      ]
    }
  ],
  "metadata": {
    "colab": {
      "provenance": []
    },
    "kernelspec": {
      "display_name": "Python 3",
      "name": "python3"
    },
    "language_info": {
      "name": "python"
    }
  },
  "nbformat": 4,
  "nbformat_minor": 0
}