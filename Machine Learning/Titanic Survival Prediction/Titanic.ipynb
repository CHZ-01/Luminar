{
  "cells": [
    {
      "cell_type": "code",
      "execution_count": 130,
      "metadata": {
        "id": "MSJMSWc191lm"
      },
      "outputs": [],
      "source": [
        "import pandas as pd\n",
        "import numpy as np\n",
        "import seaborn as sns\n",
        "import matplotlib.pyplot as plt\n",
        "\n",
        "from sklearn.preprocessing import MinMaxScaler,OneHotEncoder\n",
        "from sklearn.model_selection import train_test_split,cross_val_score\n",
        "from sklearn.metrics import classification_report\n",
        "\n",
        "from sklearn.neighbors import KNeighborsClassifier\n",
        "from sklearn.svm import SVC\n",
        "from sklearn.naive_bayes import GaussianNB\n",
        "from sklearn.tree import DecisionTreeClassifier\n",
        "\n",
        "import pickle"
      ]
    },
    {
      "cell_type": "code",
      "execution_count": 131,
      "metadata": {
        "colab": {
          "base_uri": "https://localhost:8080/",
          "height": 206
        },
        "id": "iJzZGJms-tm4",
        "outputId": "5761a746-e82d-4c75-9014-4052f6b0a009"
      },
      "outputs": [
        {
          "data": {
            "text/html": [
              "<div>\n",
              "<style scoped>\n",
              "    .dataframe tbody tr th:only-of-type {\n",
              "        vertical-align: middle;\n",
              "    }\n",
              "\n",
              "    .dataframe tbody tr th {\n",
              "        vertical-align: top;\n",
              "    }\n",
              "\n",
              "    .dataframe thead th {\n",
              "        text-align: right;\n",
              "    }\n",
              "</style>\n",
              "<table border=\"1\" class=\"dataframe\">\n",
              "  <thead>\n",
              "    <tr style=\"text-align: right;\">\n",
              "      <th></th>\n",
              "      <th>PassengerId</th>\n",
              "      <th>Name</th>\n",
              "      <th>Pclass</th>\n",
              "      <th>Sex</th>\n",
              "      <th>Age</th>\n",
              "      <th>SibSp</th>\n",
              "      <th>Parch</th>\n",
              "      <th>Ticket</th>\n",
              "      <th>Fare</th>\n",
              "      <th>Cabin</th>\n",
              "      <th>Embarked</th>\n",
              "      <th>Survived</th>\n",
              "    </tr>\n",
              "  </thead>\n",
              "  <tbody>\n",
              "    <tr>\n",
              "      <th>0</th>\n",
              "      <td>1</td>\n",
              "      <td>Braund, Mr. Owen Harris</td>\n",
              "      <td>3</td>\n",
              "      <td>male</td>\n",
              "      <td>22.0</td>\n",
              "      <td>1</td>\n",
              "      <td>0</td>\n",
              "      <td>A/5 21171</td>\n",
              "      <td>7.2500</td>\n",
              "      <td>NaN</td>\n",
              "      <td>S</td>\n",
              "      <td>0</td>\n",
              "    </tr>\n",
              "    <tr>\n",
              "      <th>1</th>\n",
              "      <td>2</td>\n",
              "      <td>Cumings, Mrs. John Bradley (Florence Briggs Th...</td>\n",
              "      <td>1</td>\n",
              "      <td>female</td>\n",
              "      <td>38.0</td>\n",
              "      <td>1</td>\n",
              "      <td>0</td>\n",
              "      <td>PC 17599</td>\n",
              "      <td>71.2833</td>\n",
              "      <td>C85</td>\n",
              "      <td>C</td>\n",
              "      <td>1</td>\n",
              "    </tr>\n",
              "    <tr>\n",
              "      <th>2</th>\n",
              "      <td>3</td>\n",
              "      <td>Heikkinen, Miss. Laina</td>\n",
              "      <td>3</td>\n",
              "      <td>female</td>\n",
              "      <td>26.0</td>\n",
              "      <td>0</td>\n",
              "      <td>0</td>\n",
              "      <td>STON/O2. 3101282</td>\n",
              "      <td>7.9250</td>\n",
              "      <td>NaN</td>\n",
              "      <td>S</td>\n",
              "      <td>1</td>\n",
              "    </tr>\n",
              "    <tr>\n",
              "      <th>3</th>\n",
              "      <td>4</td>\n",
              "      <td>Futrelle, Mrs. Jacques Heath (Lily May Peel)</td>\n",
              "      <td>1</td>\n",
              "      <td>female</td>\n",
              "      <td>35.0</td>\n",
              "      <td>1</td>\n",
              "      <td>0</td>\n",
              "      <td>113803</td>\n",
              "      <td>53.1000</td>\n",
              "      <td>C123</td>\n",
              "      <td>S</td>\n",
              "      <td>1</td>\n",
              "    </tr>\n",
              "    <tr>\n",
              "      <th>4</th>\n",
              "      <td>5</td>\n",
              "      <td>Allen, Mr. William Henry</td>\n",
              "      <td>3</td>\n",
              "      <td>male</td>\n",
              "      <td>35.0</td>\n",
              "      <td>0</td>\n",
              "      <td>0</td>\n",
              "      <td>373450</td>\n",
              "      <td>8.0500</td>\n",
              "      <td>NaN</td>\n",
              "      <td>S</td>\n",
              "      <td>0</td>\n",
              "    </tr>\n",
              "  </tbody>\n",
              "</table>\n",
              "</div>"
            ],
            "text/plain": [
              "   PassengerId                                               Name  Pclass  \\\n",
              "0            1                            Braund, Mr. Owen Harris       3   \n",
              "1            2  Cumings, Mrs. John Bradley (Florence Briggs Th...       1   \n",
              "2            3                             Heikkinen, Miss. Laina       3   \n",
              "3            4       Futrelle, Mrs. Jacques Heath (Lily May Peel)       1   \n",
              "4            5                           Allen, Mr. William Henry       3   \n",
              "\n",
              "      Sex   Age  SibSp  Parch            Ticket     Fare Cabin Embarked  \\\n",
              "0    male  22.0      1      0         A/5 21171   7.2500   NaN        S   \n",
              "1  female  38.0      1      0          PC 17599  71.2833   C85        C   \n",
              "2  female  26.0      0      0  STON/O2. 3101282   7.9250   NaN        S   \n",
              "3  female  35.0      1      0            113803  53.1000  C123        S   \n",
              "4    male  35.0      0      0            373450   8.0500   NaN        S   \n",
              "\n",
              "   Survived  \n",
              "0         0  \n",
              "1         1  \n",
              "2         1  \n",
              "3         1  \n",
              "4         0  "
            ]
          },
          "execution_count": 131,
          "metadata": {},
          "output_type": "execute_result"
        }
      ],
      "source": [
        "df = pd.read_csv(r\"C:\\PRGM\\luminar\\machine learning\\DataSet\\titanic.csv\")\n",
        "df.head()"
      ]
    },
    {
      "cell_type": "code",
      "execution_count": 132,
      "metadata": {
        "colab": {
          "base_uri": "https://localhost:8080/",
          "height": 335
        },
        "collapsed": true,
        "id": "685PQt8b_SPr",
        "outputId": "9729bc21-b7df-40a3-82db-6977d949f4e9"
      },
      "outputs": [
        {
          "data": {
            "text/plain": [
              "Pclass        0\n",
              "Sex           0\n",
              "Age         177\n",
              "SibSp         0\n",
              "Parch         0\n",
              "Fare          0\n",
              "Embarked      0\n",
              "Survived      0\n",
              "dtype: int64"
            ]
          },
          "execution_count": 132,
          "metadata": {},
          "output_type": "execute_result"
        }
      ],
      "source": [
        "df.drop(columns=[\"PassengerId\",\"Name\",\"Ticket\",\"Cabin\"],inplace=True)\n",
        "\n",
        "df.shape\n",
        "# df.info()\n",
        "df.describe()\n",
        "\n",
        "df.duplicated().sum()\n",
        "df.dropna(subset=[\"Embarked\"],inplace=True)\n",
        "\n",
        "df.head()\n",
        "df.isna().sum()"
      ]
    },
    {
      "cell_type": "code",
      "execution_count": 133,
      "metadata": {
        "colab": {
          "base_uri": "https://localhost:8080/",
          "height": 209
        },
        "id": "NdsraHnQkgsU",
        "outputId": "77494fd0-428c-49d0-e4a7-d9b2005821f8"
      },
      "outputs": [
        {
          "data": {
            "text/plain": [
              "Pclass\n",
              "1    38.105543\n",
              "2    29.877630\n",
              "3    25.140620\n",
              "Name: Age, dtype: float64"
            ]
          },
          "execution_count": 133,
          "metadata": {},
          "output_type": "execute_result"
        }
      ],
      "source": [
        "df.groupby(\"Pclass\")[\"Age\"].mean()"
      ]
    },
    {
      "cell_type": "code",
      "execution_count": 134,
      "metadata": {
        "colab": {
          "base_uri": "https://localhost:8080/"
        },
        "id": "2eypnKyppatb",
        "outputId": "e154d83e-58b1-4ce2-e504-48d64bcafc38"
      },
      "outputs": [
        {
          "name": "stderr",
          "output_type": "stream",
          "text": [
            "C:\\Users\\vaisa\\AppData\\Local\\Temp\\ipykernel_4960\\4218180141.py:2: FutureWarning: Series.__getitem__ treating keys as positions is deprecated. In a future version, integer keys will always be treated as labels (consistent with DataFrame behavior). To access a value by position, use `ser.iloc[pos]`\n",
            "  Age = cols[0]\n",
            "C:\\Users\\vaisa\\AppData\\Local\\Temp\\ipykernel_4960\\4218180141.py:3: FutureWarning: Series.__getitem__ treating keys as positions is deprecated. In a future version, integer keys will always be treated as labels (consistent with DataFrame behavior). To access a value by position, use `ser.iloc[pos]`\n",
            "  Pclass = cols[1]\n"
          ]
        }
      ],
      "source": [
        "def set_age(cols):\n",
        "    Age = cols[0]\n",
        "    Pclass = cols[1]\n",
        "\n",
        "    if pd.isnull(Age):\n",
        "        if Pclass == 1:\n",
        "            return 38\n",
        "        elif Pclass == 2:\n",
        "            return 29\n",
        "        else:\n",
        "            return 25\n",
        "    else:\n",
        "        return Age\n",
        "\n",
        "df['Age'] = df[['Age','Pclass']].apply(set_age,axis=1)"
      ]
    },
    {
      "cell_type": "code",
      "execution_count": 135,
      "metadata": {
        "colab": {
          "base_uri": "https://localhost:8080/",
          "height": 335
        },
        "id": "ecASoJ-HnVpE",
        "outputId": "47fd740c-7f4e-40e9-aaf4-b82bb9123cb0"
      },
      "outputs": [
        {
          "data": {
            "text/plain": [
              "Pclass      0\n",
              "Sex         0\n",
              "Age         0\n",
              "SibSp       0\n",
              "Parch       0\n",
              "Fare        0\n",
              "Embarked    0\n",
              "Survived    0\n",
              "dtype: int64"
            ]
          },
          "execution_count": 135,
          "metadata": {},
          "output_type": "execute_result"
        }
      ],
      "source": [
        "df.dropna(inplace=True)\n",
        "df.isna().sum()"
      ]
    },
    {
      "cell_type": "code",
      "execution_count": 136,
      "metadata": {
        "colab": {
          "base_uri": "https://localhost:8080/"
        },
        "collapsed": true,
        "id": "RyMnsk30AG9X",
        "outputId": "43853a3f-de47-439f-c1e2-f68cb9fc090d"
      },
      "outputs": [
        {
          "name": "stdout",
          "output_type": "stream",
          "text": [
            "Pclass\n",
            "3    491\n",
            "1    214\n",
            "2    184\n",
            "Name: count, dtype: int64\n",
            "\n",
            "Sex\n",
            "male      577\n",
            "female    312\n",
            "Name: count, dtype: int64\n",
            "\n",
            "Age\n",
            "25.00    159\n",
            "38.00     40\n",
            "29.00     31\n",
            "24.00     30\n",
            "22.00     27\n",
            "        ... \n",
            "24.50      1\n",
            "0.67       1\n",
            "0.42       1\n",
            "34.50      1\n",
            "74.00      1\n",
            "Name: count, Length: 88, dtype: int64\n",
            "\n",
            "SibSp\n",
            "0    606\n",
            "1    209\n",
            "2     28\n",
            "4     18\n",
            "3     16\n",
            "8      7\n",
            "5      5\n",
            "Name: count, dtype: int64\n",
            "\n",
            "Parch\n",
            "0    676\n",
            "1    118\n",
            "2     80\n",
            "5      5\n",
            "3      5\n",
            "4      4\n",
            "6      1\n",
            "Name: count, dtype: int64\n",
            "\n",
            "Fare\n",
            "8.0500     43\n",
            "13.0000    42\n",
            "7.8958     38\n",
            "7.7500     34\n",
            "26.0000    31\n",
            "           ..\n",
            "13.8583     1\n",
            "50.4958     1\n",
            "5.0000      1\n",
            "9.8458      1\n",
            "10.5167     1\n",
            "Name: count, Length: 247, dtype: int64\n",
            "\n",
            "Embarked\n",
            "S    644\n",
            "C    168\n",
            "Q     77\n",
            "Name: count, dtype: int64\n",
            "\n",
            "Survived\n",
            "0    549\n",
            "1    340\n",
            "Name: count, dtype: int64\n",
            "\n"
          ]
        }
      ],
      "source": [
        "for i in df:\n",
        "  if i == \"Name\":\n",
        "    continue\n",
        "  print(df[i].value_counts())\n",
        "  print()"
      ]
    },
    {
      "cell_type": "code",
      "execution_count": 137,
      "metadata": {
        "colab": {
          "base_uri": "https://localhost:8080/",
          "height": 178
        },
        "id": "-ZjQVdsKCms4",
        "outputId": "086d9aca-c189-4308-c52a-a0a276eaca7a"
      },
      "outputs": [
        {
          "data": {
            "text/plain": [
              "Sex\n",
              "female    231\n",
              "male      109\n",
              "Name: Survived, dtype: int64"
            ]
          },
          "execution_count": 137,
          "metadata": {},
          "output_type": "execute_result"
        }
      ],
      "source": [
        "df[df[\"Survived\"]==1].groupby(\"Sex\")[\"Survived\"].count()"
      ]
    },
    {
      "cell_type": "code",
      "execution_count": 138,
      "metadata": {
        "collapsed": true,
        "id": "t-uvmg64GAFW"
      },
      "outputs": [],
      "source": [
        "# df[df[\"Survived\"]==1].groupby(\"Age\")[\"Survived\"].count()\n",
        "\n",
        "# round(df[\"Age\"]).value_counts()"
      ]
    },
    {
      "cell_type": "code",
      "execution_count": 139,
      "metadata": {
        "id": "1t9RukweHID1"
      },
      "outputs": [],
      "source": [
        "# df[\"Age Catgegory\"] = pd.cut(df[\"Age\"],[0,18,35,50,90],labels=[\"Child\",\"Young\",\"Adults\",\"Seniors\"])"
      ]
    },
    {
      "cell_type": "code",
      "execution_count": 140,
      "metadata": {
        "colab": {
          "base_uri": "https://localhost:8080/",
          "height": 178
        },
        "id": "-HM_36OCEPg7",
        "outputId": "025a8a93-c4ff-4360-a9ad-6692a36d977a"
      },
      "outputs": [
        {
          "data": {
            "text/plain": [
              "Sex\n",
              "female     81\n",
              "male      468\n",
              "Name: Survived, dtype: int64"
            ]
          },
          "execution_count": 140,
          "metadata": {},
          "output_type": "execute_result"
        }
      ],
      "source": [
        "df[df[\"Survived\"]==0].groupby(\"Sex\")[\"Survived\"].count()"
      ]
    },
    {
      "cell_type": "code",
      "execution_count": 141,
      "metadata": {
        "colab": {
          "base_uri": "https://localhost:8080/",
          "height": 206
        },
        "id": "6YGP94YFKXeM",
        "outputId": "fb358bf9-2b07-4b83-eea7-5e5cd9d99066"
      },
      "outputs": [
        {
          "data": {
            "text/html": [
              "<div>\n",
              "<style scoped>\n",
              "    .dataframe tbody tr th:only-of-type {\n",
              "        vertical-align: middle;\n",
              "    }\n",
              "\n",
              "    .dataframe tbody tr th {\n",
              "        vertical-align: top;\n",
              "    }\n",
              "\n",
              "    .dataframe thead th {\n",
              "        text-align: right;\n",
              "    }\n",
              "</style>\n",
              "<table border=\"1\" class=\"dataframe\">\n",
              "  <thead>\n",
              "    <tr style=\"text-align: right;\">\n",
              "      <th></th>\n",
              "      <th>Pclass</th>\n",
              "      <th>Sex</th>\n",
              "      <th>Age</th>\n",
              "      <th>SibSp</th>\n",
              "      <th>Parch</th>\n",
              "      <th>Fare</th>\n",
              "      <th>Embarked</th>\n",
              "      <th>Survived</th>\n",
              "    </tr>\n",
              "  </thead>\n",
              "  <tbody>\n",
              "    <tr>\n",
              "      <th>0</th>\n",
              "      <td>3</td>\n",
              "      <td>male</td>\n",
              "      <td>22.0</td>\n",
              "      <td>1</td>\n",
              "      <td>0</td>\n",
              "      <td>7.2500</td>\n",
              "      <td>S</td>\n",
              "      <td>0</td>\n",
              "    </tr>\n",
              "    <tr>\n",
              "      <th>1</th>\n",
              "      <td>1</td>\n",
              "      <td>female</td>\n",
              "      <td>38.0</td>\n",
              "      <td>1</td>\n",
              "      <td>0</td>\n",
              "      <td>71.2833</td>\n",
              "      <td>C</td>\n",
              "      <td>1</td>\n",
              "    </tr>\n",
              "    <tr>\n",
              "      <th>2</th>\n",
              "      <td>3</td>\n",
              "      <td>female</td>\n",
              "      <td>26.0</td>\n",
              "      <td>0</td>\n",
              "      <td>0</td>\n",
              "      <td>7.9250</td>\n",
              "      <td>S</td>\n",
              "      <td>1</td>\n",
              "    </tr>\n",
              "    <tr>\n",
              "      <th>3</th>\n",
              "      <td>1</td>\n",
              "      <td>female</td>\n",
              "      <td>35.0</td>\n",
              "      <td>1</td>\n",
              "      <td>0</td>\n",
              "      <td>53.1000</td>\n",
              "      <td>S</td>\n",
              "      <td>1</td>\n",
              "    </tr>\n",
              "    <tr>\n",
              "      <th>4</th>\n",
              "      <td>3</td>\n",
              "      <td>male</td>\n",
              "      <td>35.0</td>\n",
              "      <td>0</td>\n",
              "      <td>0</td>\n",
              "      <td>8.0500</td>\n",
              "      <td>S</td>\n",
              "      <td>0</td>\n",
              "    </tr>\n",
              "  </tbody>\n",
              "</table>\n",
              "</div>"
            ],
            "text/plain": [
              "   Pclass     Sex   Age  SibSp  Parch     Fare Embarked  Survived\n",
              "0       3    male  22.0      1      0   7.2500        S         0\n",
              "1       1  female  38.0      1      0  71.2833        C         1\n",
              "2       3  female  26.0      0      0   7.9250        S         1\n",
              "3       1  female  35.0      1      0  53.1000        S         1\n",
              "4       3    male  35.0      0      0   8.0500        S         0"
            ]
          },
          "execution_count": 141,
          "metadata": {},
          "output_type": "execute_result"
        }
      ],
      "source": [
        "df.head()"
      ]
    },
    {
      "cell_type": "code",
      "execution_count": 142,
      "metadata": {
        "id": "Hb-9G0TwE8n2"
      },
      "outputs": [],
      "source": [
        "ohe_embarked = OneHotEncoder(drop=\"first\",sparse_output=False)\n",
        "arr = ohe_embarked.fit_transform(df[[\"Embarked\"]])\n",
        "df_arr1 = pd.DataFrame(arr,columns=ohe_embarked.get_feature_names_out())\n",
        "df = df.join(df_arr1)"
      ]
    },
    {
      "cell_type": "code",
      "execution_count": 143,
      "metadata": {
        "id": "mTUlKRWaIAJu"
      },
      "outputs": [],
      "source": [
        "ohe_sex = OneHotEncoder(drop=\"first\",sparse_output=False)\n",
        "arr = ohe_sex.fit_transform(df[[\"Sex\"]])\n",
        "df_arr2 = pd.DataFrame(arr,columns=ohe_sex.get_feature_names_out())\n",
        "df.reset_index(drop=True,inplace=True)\n",
        "df = df.join(df_arr2)"
      ]
    },
    {
      "cell_type": "code",
      "execution_count": 144,
      "metadata": {
        "colab": {
          "base_uri": "https://localhost:8080/",
          "height": 206
        },
        "id": "a6HNyzeyFaFV",
        "outputId": "6ce6b2b7-2a6f-4291-d595-b30853fb3e62"
      },
      "outputs": [
        {
          "data": {
            "text/html": [
              "<div>\n",
              "<style scoped>\n",
              "    .dataframe tbody tr th:only-of-type {\n",
              "        vertical-align: middle;\n",
              "    }\n",
              "\n",
              "    .dataframe tbody tr th {\n",
              "        vertical-align: top;\n",
              "    }\n",
              "\n",
              "    .dataframe thead th {\n",
              "        text-align: right;\n",
              "    }\n",
              "</style>\n",
              "<table border=\"1\" class=\"dataframe\">\n",
              "  <thead>\n",
              "    <tr style=\"text-align: right;\">\n",
              "      <th></th>\n",
              "      <th>Pclass</th>\n",
              "      <th>Age</th>\n",
              "      <th>SibSp</th>\n",
              "      <th>Parch</th>\n",
              "      <th>Fare</th>\n",
              "      <th>Survived</th>\n",
              "      <th>Embarked_Q</th>\n",
              "      <th>Embarked_S</th>\n",
              "      <th>Sex_male</th>\n",
              "    </tr>\n",
              "  </thead>\n",
              "  <tbody>\n",
              "    <tr>\n",
              "      <th>0</th>\n",
              "      <td>3</td>\n",
              "      <td>22.0</td>\n",
              "      <td>1</td>\n",
              "      <td>0</td>\n",
              "      <td>7.2500</td>\n",
              "      <td>0</td>\n",
              "      <td>0.0</td>\n",
              "      <td>1.0</td>\n",
              "      <td>1.0</td>\n",
              "    </tr>\n",
              "    <tr>\n",
              "      <th>1</th>\n",
              "      <td>1</td>\n",
              "      <td>38.0</td>\n",
              "      <td>1</td>\n",
              "      <td>0</td>\n",
              "      <td>71.2833</td>\n",
              "      <td>1</td>\n",
              "      <td>0.0</td>\n",
              "      <td>0.0</td>\n",
              "      <td>0.0</td>\n",
              "    </tr>\n",
              "    <tr>\n",
              "      <th>2</th>\n",
              "      <td>3</td>\n",
              "      <td>26.0</td>\n",
              "      <td>0</td>\n",
              "      <td>0</td>\n",
              "      <td>7.9250</td>\n",
              "      <td>1</td>\n",
              "      <td>0.0</td>\n",
              "      <td>1.0</td>\n",
              "      <td>0.0</td>\n",
              "    </tr>\n",
              "    <tr>\n",
              "      <th>3</th>\n",
              "      <td>1</td>\n",
              "      <td>35.0</td>\n",
              "      <td>1</td>\n",
              "      <td>0</td>\n",
              "      <td>53.1000</td>\n",
              "      <td>1</td>\n",
              "      <td>0.0</td>\n",
              "      <td>1.0</td>\n",
              "      <td>0.0</td>\n",
              "    </tr>\n",
              "    <tr>\n",
              "      <th>4</th>\n",
              "      <td>3</td>\n",
              "      <td>35.0</td>\n",
              "      <td>0</td>\n",
              "      <td>0</td>\n",
              "      <td>8.0500</td>\n",
              "      <td>0</td>\n",
              "      <td>0.0</td>\n",
              "      <td>1.0</td>\n",
              "      <td>1.0</td>\n",
              "    </tr>\n",
              "  </tbody>\n",
              "</table>\n",
              "</div>"
            ],
            "text/plain": [
              "   Pclass   Age  SibSp  Parch     Fare  Survived  Embarked_Q  Embarked_S  \\\n",
              "0       3  22.0      1      0   7.2500         0         0.0         1.0   \n",
              "1       1  38.0      1      0  71.2833         1         0.0         0.0   \n",
              "2       3  26.0      0      0   7.9250         1         0.0         1.0   \n",
              "3       1  35.0      1      0  53.1000         1         0.0         1.0   \n",
              "4       3  35.0      0      0   8.0500         0         0.0         1.0   \n",
              "\n",
              "   Sex_male  \n",
              "0       1.0  \n",
              "1       0.0  \n",
              "2       0.0  \n",
              "3       0.0  \n",
              "4       1.0  "
            ]
          },
          "execution_count": 144,
          "metadata": {},
          "output_type": "execute_result"
        }
      ],
      "source": [
        "df.drop(columns=[\"Sex\",\"Embarked\"],inplace=True)\n",
        "df.dropna(inplace=True)\n",
        "df.head()"
      ]
    },
    {
      "cell_type": "code",
      "execution_count": 145,
      "metadata": {
        "id": "5Jp79TRGDxzo"
      },
      "outputs": [],
      "source": [
        "x = df.drop(columns=[\"Survived\"])\n",
        "y = df[\"Survived\"]"
      ]
    },
    {
      "cell_type": "code",
      "execution_count": 146,
      "metadata": {
        "id": "PS6cssP3JMn6"
      },
      "outputs": [],
      "source": [
        "mms = MinMaxScaler()\n",
        "x_scaled = mms.fit_transform(x)"
      ]
    },
    {
      "cell_type": "code",
      "execution_count": 147,
      "metadata": {
        "id": "KCJAnCP7EMne"
      },
      "outputs": [],
      "source": [
        "x_test,x_train,y_test,y_train = train_test_split(x_scaled,y,test_size=0.3,random_state=3)"
      ]
    },
    {
      "cell_type": "code",
      "execution_count": 148,
      "metadata": {
        "colab": {
          "base_uri": "https://localhost:8080/"
        },
        "id": "zL-l_1inJJY3",
        "outputId": "b57a9bf2-3348-4ef7-b433-c70fe8dc3411"
      },
      "outputs": [
        {
          "name": "stdout",
          "output_type": "stream",
          "text": [
            "KNeighborsClassifier()\n",
            "              precision    recall  f1-score   support\n",
            "\n",
            "           0       0.84      0.85      0.84       384\n",
            "           1       0.75      0.73      0.74       236\n",
            "\n",
            "    accuracy                           0.80       620\n",
            "   macro avg       0.79      0.79      0.79       620\n",
            "weighted avg       0.80      0.80      0.80       620\n",
            "\n",
            "0.7271139063591894\n",
            "\n",
            "\n",
            "SVC()\n",
            "              precision    recall  f1-score   support\n",
            "\n",
            "           0       0.83      0.85      0.84       384\n",
            "           1       0.75      0.71      0.73       236\n",
            "\n",
            "    accuracy                           0.80       620\n",
            "   macro avg       0.79      0.78      0.78       620\n",
            "weighted avg       0.80      0.80      0.80       620\n",
            "\n",
            "0.7756813417190775\n",
            "\n",
            "\n",
            "GaussianNB()\n",
            "              precision    recall  f1-score   support\n",
            "\n",
            "           0       0.83      0.84      0.84       384\n",
            "           1       0.74      0.73      0.73       236\n",
            "\n",
            "    accuracy                           0.80       620\n",
            "   macro avg       0.78      0.78      0.78       620\n",
            "weighted avg       0.80      0.80      0.80       620\n",
            "\n",
            "0.7607267645003495\n",
            "\n",
            "\n",
            "DecisionTreeClassifier()\n",
            "              precision    recall  f1-score   support\n",
            "\n",
            "           0       0.81      0.83      0.82       384\n",
            "           1       0.71      0.68      0.69       236\n",
            "\n",
            "    accuracy                           0.77       620\n",
            "   macro avg       0.76      0.75      0.76       620\n",
            "weighted avg       0.77      0.77      0.77       620\n",
            "\n",
            "0.7082459818308875\n",
            "\n",
            "\n"
          ]
        }
      ],
      "source": [
        "models = [KNeighborsClassifier(),SVC(),GaussianNB(),DecisionTreeClassifier()]\n",
        "\n",
        "for i in models:\n",
        "  print(i)\n",
        "  i.fit(x_train,y_train)\n",
        "  y_pred = i.predict(x_test)\n",
        "  print(classification_report(y_test,y_pred))\n",
        "  print(cross_val_score(i,x_train,y_train,cv=5).mean())\n",
        "  print()\n",
        "  print()"
      ]
    },
    {
      "cell_type": "code",
      "execution_count": 149,
      "metadata": {
        "id": "r_al6sfxt35Y"
      },
      "outputs": [],
      "source": [
        "svc = SVC()\n",
        "svc.fit(x_train,y_train)\n",
        "\n",
        "dit = {\"model\":svc,\"scaler\":mms,\"oh_sex\":ohe_sex,\"oh_embarked\":ohe_embarked}\n",
        "\n",
        "with open('Titanic.pkl','wb') as file:\n",
        "    pickle.dump(dit,file)"
      ]
    }
  ],
  "metadata": {
    "colab": {
      "provenance": []
    },
    "kernelspec": {
      "display_name": "Python 3",
      "name": "python3"
    },
    "language_info": {
      "codemirror_mode": {
        "name": "ipython",
        "version": 3
      },
      "file_extension": ".py",
      "mimetype": "text/x-python",
      "name": "python",
      "nbconvert_exporter": "python",
      "pygments_lexer": "ipython3",
      "version": "3.12.8"
    }
  },
  "nbformat": 4,
  "nbformat_minor": 0
}
